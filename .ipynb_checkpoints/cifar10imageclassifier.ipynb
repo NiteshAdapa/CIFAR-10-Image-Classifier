{
  "cells": [
    {
      "cell_type": "code",
      "execution_count": 1,
      "id": "0088e301-b45b-4cff-bcb9-9552e3b8fe30",
      "metadata": {
        "id": "0088e301-b45b-4cff-bcb9-9552e3b8fe30"
      },
      "outputs": [],
      "source": [
        "import tensorflow as tf"
      ]
    },
    {
      "cell_type": "code",
      "source": [
        "cifar10 = tf.keras.datasets.cifar10.load_data()\n",
        "(X_train_full, y_train_full), (X_test, y_test) = cifar10\n",
        "X_train, y_train = X_train_full[:-10000], y_train_full[:-10000]\n",
        "X_valid, y_valid = X_train_full[-10000:], y_train_full[-10000:]"
      ],
      "metadata": {
        "id": "9f97cZgJOE1l"
      },
      "id": "9f97cZgJOE1l",
      "execution_count": 8,
      "outputs": []
    },
    {
      "cell_type": "code",
      "source": [
        "X_train.shape"
      ],
      "metadata": {
        "colab": {
          "base_uri": "https://localhost:8080/"
        },
        "id": "a4juMlBuO6cp",
        "outputId": "adec66e7-8a60-4575-d37e-8cf85ae3220c"
      },
      "id": "a4juMlBuO6cp",
      "execution_count": 9,
      "outputs": [
        {
          "output_type": "execute_result",
          "data": {
            "text/plain": [
              "(40000, 32, 32, 3)"
            ]
          },
          "metadata": {},
          "execution_count": 9
        }
      ]
    },
    {
      "cell_type": "code",
      "source": [
        "class_names = [\"airplane\", \"automobile\", \"bird\", \"cat\", \"deer\", \"dog\", \"frog\", \"horse\", \"ship\", \"truck\"]\n",
        "class_names[int(y_train[5])]\n",
        "y_train.dtype"
      ],
      "metadata": {
        "colab": {
          "base_uri": "https://localhost:8080/"
        },
        "id": "GhPGKeDgPAsL",
        "outputId": "5bbede1b-e9e7-424d-f9af-d4a4b27991af"
      },
      "id": "GhPGKeDgPAsL",
      "execution_count": 10,
      "outputs": [
        {
          "output_type": "stream",
          "name": "stderr",
          "text": [
            "<ipython-input-10-d4c03d5adca4>:2: DeprecationWarning: Conversion of an array with ndim > 0 to a scalar is deprecated, and will error in future. Ensure you extract a single element from your array before performing this operation. (Deprecated NumPy 1.25.)\n",
            "  class_names[int(y_train[5])]\n"
          ]
        },
        {
          "output_type": "execute_result",
          "data": {
            "text/plain": [
              "dtype('uint8')"
            ]
          },
          "metadata": {},
          "execution_count": 10
        }
      ]
    },
    {
      "cell_type": "code",
      "source": [
        "tf.random.set_seed(42)\n",
        "model = tf.keras.Sequential([\n",
        "    tf.keras.layers.Flatten(input_shape = [32, 32, 3]),\n",
        "    tf.keras.layers.Dense(300, activation = \"relu\"),\n",
        "    tf.keras.layers.Dense(100, activation = \"relu\"),\n",
        "    tf.keras.layers.Dense(10, activation = \"softmax\")\n",
        "])\n",
        "model.summary()"
      ],
      "metadata": {
        "colab": {
          "base_uri": "https://localhost:8080/"
        },
        "id": "R_rQwpRPPzS-",
        "outputId": "4015b683-7d99-46dc-8491-f7ba0a220863"
      },
      "id": "R_rQwpRPPzS-",
      "execution_count": 11,
      "outputs": [
        {
          "output_type": "stream",
          "name": "stdout",
          "text": [
            "Model: \"sequential_1\"\n",
            "_________________________________________________________________\n",
            " Layer (type)                Output Shape              Param #   \n",
            "=================================================================\n",
            " flatten_1 (Flatten)         (None, 3072)              0         \n",
            "                                                                 \n",
            " dense_3 (Dense)             (None, 300)               921900    \n",
            "                                                                 \n",
            " dense_4 (Dense)             (None, 100)               30100     \n",
            "                                                                 \n",
            " dense_5 (Dense)             (None, 10)                1010      \n",
            "                                                                 \n",
            "=================================================================\n",
            "Total params: 953010 (3.64 MB)\n",
            "Trainable params: 953010 (3.64 MB)\n",
            "Non-trainable params: 0 (0.00 Byte)\n",
            "_________________________________________________________________\n"
          ]
        }
      ]
    },
    {
      "cell_type": "code",
      "source": [
        "model.compile(loss = \"sparse_categorical_crossentropy\",\n",
        "              optimizer = \"sgd\",\n",
        "              metrics = \"accuracy\")"
      ],
      "metadata": {
        "id": "94Y-bZn1QsSU"
      },
      "id": "94Y-bZn1QsSU",
      "execution_count": 12,
      "outputs": []
    },
    {
      "cell_type": "code",
      "source": [
        "classifier = model.fit(X_train, y_train, epochs = 30, validation_data = (X_valid, y_valid))"
      ],
      "metadata": {
        "colab": {
          "base_uri": "https://localhost:8080/"
        },
        "id": "vgLgmw-pRaPl",
        "outputId": "6c23a29f-1756-46b4-9a2c-2c46b0bb669f"
      },
      "id": "vgLgmw-pRaPl",
      "execution_count": 13,
      "outputs": [
        {
          "output_type": "stream",
          "name": "stdout",
          "text": [
            "Epoch 1/30\n",
            "1250/1250 [==============================] - 5s 3ms/step - loss: 4929018368.0000 - accuracy: 0.0965 - val_loss: 2.3084 - val_accuracy: 0.0952\n",
            "Epoch 2/30\n",
            "1250/1250 [==============================] - 4s 3ms/step - loss: 2.3027 - accuracy: 0.1009 - val_loss: 2.3084 - val_accuracy: 0.0952\n",
            "Epoch 3/30\n",
            "1250/1250 [==============================] - 5s 4ms/step - loss: 2.3027 - accuracy: 0.1005 - val_loss: 2.3084 - val_accuracy: 0.0977\n",
            "Epoch 4/30\n",
            "1250/1250 [==============================] - 4s 3ms/step - loss: 2.3027 - accuracy: 0.0996 - val_loss: 2.3084 - val_accuracy: 0.0952\n",
            "Epoch 5/30\n",
            "1250/1250 [==============================] - 4s 3ms/step - loss: 2.3027 - accuracy: 0.0996 - val_loss: 2.3084 - val_accuracy: 0.0977\n",
            "Epoch 6/30\n",
            "1250/1250 [==============================] - 5s 4ms/step - loss: 2.3027 - accuracy: 0.0972 - val_loss: 2.3084 - val_accuracy: 0.0952\n",
            "Epoch 7/30\n",
            "1250/1250 [==============================] - 4s 3ms/step - loss: 2.3027 - accuracy: 0.1009 - val_loss: 2.3084 - val_accuracy: 0.0952\n",
            "Epoch 8/30\n",
            "1250/1250 [==============================] - 4s 3ms/step - loss: 2.3027 - accuracy: 0.0998 - val_loss: 2.3085 - val_accuracy: 0.0952\n",
            "Epoch 9/30\n",
            "1250/1250 [==============================] - 5s 4ms/step - loss: 2.3027 - accuracy: 0.0985 - val_loss: 2.3084 - val_accuracy: 0.0952\n",
            "Epoch 10/30\n",
            "1250/1250 [==============================] - 5s 4ms/step - loss: 2.3027 - accuracy: 0.0988 - val_loss: 2.3085 - val_accuracy: 0.0952\n",
            "Epoch 11/30\n",
            "1250/1250 [==============================] - 5s 4ms/step - loss: 2.3027 - accuracy: 0.1006 - val_loss: 2.3084 - val_accuracy: 0.0952\n",
            "Epoch 12/30\n",
            "1250/1250 [==============================] - 4s 4ms/step - loss: 2.3027 - accuracy: 0.0984 - val_loss: 2.3084 - val_accuracy: 0.0952\n",
            "Epoch 13/30\n",
            "1250/1250 [==============================] - 4s 3ms/step - loss: 2.3027 - accuracy: 0.1003 - val_loss: 2.3085 - val_accuracy: 0.0952\n",
            "Epoch 14/30\n",
            "1250/1250 [==============================] - 4s 4ms/step - loss: 2.3027 - accuracy: 0.0997 - val_loss: 2.3084 - val_accuracy: 0.0952\n",
            "Epoch 15/30\n",
            "1250/1250 [==============================] - 5s 4ms/step - loss: 2.3027 - accuracy: 0.1001 - val_loss: 2.3084 - val_accuracy: 0.0952\n",
            "Epoch 16/30\n",
            "1250/1250 [==============================] - 4s 3ms/step - loss: 2.3027 - accuracy: 0.0992 - val_loss: 2.3084 - val_accuracy: 0.0952\n",
            "Epoch 17/30\n",
            "1250/1250 [==============================] - 4s 4ms/step - loss: 2.3027 - accuracy: 0.0976 - val_loss: 2.3084 - val_accuracy: 0.0952\n",
            "Epoch 18/30\n",
            "1250/1250 [==============================] - 4s 4ms/step - loss: 2.3027 - accuracy: 0.1002 - val_loss: 2.3084 - val_accuracy: 0.0952\n",
            "Epoch 19/30\n",
            "1250/1250 [==============================] - 4s 3ms/step - loss: 2.3027 - accuracy: 0.1000 - val_loss: 2.3084 - val_accuracy: 0.0977\n",
            "Epoch 20/30\n",
            "1250/1250 [==============================] - 4s 4ms/step - loss: 2.3027 - accuracy: 0.0975 - val_loss: 2.3085 - val_accuracy: 0.0952\n",
            "Epoch 21/30\n",
            "1250/1250 [==============================] - 5s 4ms/step - loss: 2.3027 - accuracy: 0.1008 - val_loss: 2.3084 - val_accuracy: 0.0952\n",
            "Epoch 22/30\n",
            "1250/1250 [==============================] - 4s 3ms/step - loss: 2.3027 - accuracy: 0.0999 - val_loss: 2.3084 - val_accuracy: 0.0952\n",
            "Epoch 23/30\n",
            "1250/1250 [==============================] - 5s 4ms/step - loss: 2.3027 - accuracy: 0.0990 - val_loss: 2.3084 - val_accuracy: 0.0952\n",
            "Epoch 24/30\n",
            "1250/1250 [==============================] - 4s 3ms/step - loss: 2.3027 - accuracy: 0.0996 - val_loss: 2.3084 - val_accuracy: 0.0952\n",
            "Epoch 25/30\n",
            "1250/1250 [==============================] - 4s 3ms/step - loss: 2.3027 - accuracy: 0.0980 - val_loss: 2.3085 - val_accuracy: 0.0952\n",
            "Epoch 26/30\n",
            "1250/1250 [==============================] - 5s 4ms/step - loss: 2.3027 - accuracy: 0.0995 - val_loss: 2.3085 - val_accuracy: 0.0952\n",
            "Epoch 27/30\n",
            "1250/1250 [==============================] - 4s 3ms/step - loss: 2.3027 - accuracy: 0.0998 - val_loss: 2.3085 - val_accuracy: 0.0952\n",
            "Epoch 28/30\n",
            "1250/1250 [==============================] - 4s 3ms/step - loss: 2.3027 - accuracy: 0.0998 - val_loss: 2.3085 - val_accuracy: 0.0952\n",
            "Epoch 29/30\n",
            "1250/1250 [==============================] - 6s 4ms/step - loss: 2.3027 - accuracy: 0.1002 - val_loss: 2.3084 - val_accuracy: 0.0952\n",
            "Epoch 30/30\n",
            "1250/1250 [==============================] - 4s 3ms/step - loss: 2.3027 - accuracy: 0.0997 - val_loss: 2.3084 - val_accuracy: 0.0952\n"
          ]
        }
      ]
    },
    {
      "cell_type": "code",
      "source": [],
      "metadata": {
        "id": "r6vmjLI_SQdF"
      },
      "id": "r6vmjLI_SQdF",
      "execution_count": null,
      "outputs": []
    }
  ],
  "metadata": {
    "kernelspec": {
      "display_name": "Python 3.10 (tensorflow)",
      "language": "python",
      "name": "tensorflow"
    },
    "language_info": {
      "codemirror_mode": {
        "name": "ipython",
        "version": 3
      },
      "file_extension": ".py",
      "mimetype": "text/x-python",
      "name": "python",
      "nbconvert_exporter": "python",
      "pygments_lexer": "ipython3",
      "version": "3.10.10"
    },
    "colab": {
      "provenance": [],
      "gpuType": "T4"
    },
    "accelerator": "GPU"
  },
  "nbformat": 4,
  "nbformat_minor": 5
}