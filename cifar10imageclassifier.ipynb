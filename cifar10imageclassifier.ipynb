{
  "cells": [
    {
      "cell_type": "markdown",
      "source": [
        "# CIFAR 10 Dataset Image Classifier"
      ],
      "metadata": {
        "id": "6i_0BDZw7bqA"
      },
      "id": "6i_0BDZw7bqA"
    },
    {
      "cell_type": "markdown",
      "source": [
        "## Importing required libraries"
      ],
      "metadata": {
        "id": "XC0HcDfn7otX"
      },
      "id": "XC0HcDfn7otX"
    },
    {
      "cell_type": "code",
      "execution_count": 1,
      "id": "0088e301-b45b-4cff-bcb9-9552e3b8fe30",
      "metadata": {
        "id": "0088e301-b45b-4cff-bcb9-9552e3b8fe30",
        "outputId": "66d69d22-9089-42d3-e6cd-dc1c88e29886",
        "colab": {
          "base_uri": "https://localhost:8080/"
        }
      },
      "outputs": [
        {
          "output_type": "stream",
          "name": "stdout",
          "text": [
            "Requirement already satisfied: keras_tuner in /usr/local/lib/python3.10/dist-packages (1.4.7)\n",
            "Requirement already satisfied: keras in /usr/local/lib/python3.10/dist-packages (from keras_tuner) (2.15.0)\n",
            "Requirement already satisfied: packaging in /usr/local/lib/python3.10/dist-packages (from keras_tuner) (24.1)\n",
            "Requirement already satisfied: requests in /usr/local/lib/python3.10/dist-packages (from keras_tuner) (2.31.0)\n",
            "Requirement already satisfied: kt-legacy in /usr/local/lib/python3.10/dist-packages (from keras_tuner) (1.0.5)\n",
            "Requirement already satisfied: charset-normalizer<4,>=2 in /usr/local/lib/python3.10/dist-packages (from requests->keras_tuner) (3.3.2)\n",
            "Requirement already satisfied: idna<4,>=2.5 in /usr/local/lib/python3.10/dist-packages (from requests->keras_tuner) (3.7)\n",
            "Requirement already satisfied: urllib3<3,>=1.21.1 in /usr/local/lib/python3.10/dist-packages (from requests->keras_tuner) (2.0.7)\n",
            "Requirement already satisfied: certifi>=2017.4.17 in /usr/local/lib/python3.10/dist-packages (from requests->keras_tuner) (2024.6.2)\n"
          ]
        }
      ],
      "source": [
        "#!pip install --upgrade keras-cv tensorflow\n",
        "#!pip install --upgrade keras\n",
        "#!pip install keras_tuner\n",
        "import tensorflow as tf\n",
        "from matplotlib import pyplot as plt\n",
        "%matplotlib inline\n",
        "import numpy as np\n",
        "import keras\n",
        "import keras_tuner as kt\n"
      ]
    },
    {
      "cell_type": "markdown",
      "source": [
        "## Loading Dataset\n",
        "\n",
        "[Cifar-10 Dataset](https://keras.io/api/datasets/cifar10/)"
      ],
      "metadata": {
        "id": "6XrrcRa270ui"
      },
      "id": "6XrrcRa270ui"
    },
    {
      "cell_type": "code",
      "source": [
        "cifar10 = tf.keras.datasets.cifar10.load_data()\n",
        "(X_train_full, y_train_full), (X_test, y_test) = cifar10\n"
      ],
      "metadata": {
        "id": "9f97cZgJOE1l"
      },
      "id": "9f97cZgJOE1l",
      "execution_count": 2,
      "outputs": []
    },
    {
      "cell_type": "markdown",
      "source": [
        "### Converting images from RGB to Grayscale\n",
        "By converting the images to grayscale we reduce their dimension which helps in reducing the computations computed while training the model."
      ],
      "metadata": {
        "id": "TK1OrVq579ez"
      },
      "id": "TK1OrVq579ez"
    },
    {
      "cell_type": "code",
      "source": [
        "X_train_full = tf.image.rgb_to_grayscale(X_train_full)\n",
        "X_test = tf.image.rgb_to_grayscale(X_test)"
      ],
      "metadata": {
        "id": "8dfrk5wn7nui"
      },
      "id": "8dfrk5wn7nui",
      "execution_count": 3,
      "outputs": []
    },
    {
      "cell_type": "code",
      "source": [
        "X_train_full.shape"
      ],
      "metadata": {
        "id": "LXGo0Eu2uI1Q",
        "outputId": "1360328b-d76e-4cb3-ce60-13b758d456fd",
        "colab": {
          "base_uri": "https://localhost:8080/"
        }
      },
      "id": "LXGo0Eu2uI1Q",
      "execution_count": 4,
      "outputs": [
        {
          "output_type": "execute_result",
          "data": {
            "text/plain": [
              "TensorShape([50000, 32, 32, 1])"
            ]
          },
          "metadata": {},
          "execution_count": 4
        }
      ]
    },
    {
      "cell_type": "markdown",
      "source": [
        "### Splitting training data into train and split.\n"
      ],
      "metadata": {
        "id": "ii4L5xv38pEw"
      },
      "id": "ii4L5xv38pEw"
    },
    {
      "cell_type": "code",
      "source": [
        "X_train, y_train = X_train_full[:-10000], y_train_full[:-10000]\n",
        "X_valid, y_valid = X_train_full[-10000:], y_train_full[-10000:]"
      ],
      "metadata": {
        "id": "3UObF7b7nm-e"
      },
      "id": "3UObF7b7nm-e",
      "execution_count": 6,
      "outputs": []
    },
    {
      "cell_type": "code",
      "source": [
        "print(X_train[1][0][1])"
      ],
      "metadata": {
        "id": "RGxsiGCcpZa2",
        "outputId": "4ba2fa58-f91a-4297-9529-bb825cd575f4",
        "colab": {
          "base_uri": "https://localhost:8080/"
        }
      },
      "id": "RGxsiGCcpZa2",
      "execution_count": 7,
      "outputs": [
        {
          "output_type": "stream",
          "name": "stdout",
          "text": [
            "tf.Tensor([133], shape=(1,), dtype=uint8)\n"
          ]
        }
      ]
    },
    {
      "cell_type": "markdown",
      "source": [
        "### Encoding Class names"
      ],
      "metadata": {
        "id": "2-K574tq9Qip"
      },
      "id": "2-K574tq9Qip"
    },
    {
      "cell_type": "code",
      "source": [
        "class_names = [\"airplane\", \"automobile\", \"bird\", \"cat\", \"deer\", \"dog\", \"frog\", \"horse\", \"ship\", \"truck\"]\n",
        "class_names[int(y_train[5])]\n"
      ],
      "metadata": {
        "colab": {
          "base_uri": "https://localhost:8080/",
          "height": 89
        },
        "id": "GhPGKeDgPAsL",
        "outputId": "0c57be31-e681-4d35-ba37-7ba3618a8a35"
      },
      "id": "GhPGKeDgPAsL",
      "execution_count": 8,
      "outputs": [
        {
          "output_type": "stream",
          "name": "stderr",
          "text": [
            "<ipython-input-8-f94cb98b12e9>:2: DeprecationWarning: Conversion of an array with ndim > 0 to a scalar is deprecated, and will error in future. Ensure you extract a single element from your array before performing this operation. (Deprecated NumPy 1.25.)\n",
            "  class_names[int(y_train[5])]\n"
          ]
        },
        {
          "output_type": "execute_result",
          "data": {
            "text/plain": [
              "'automobile'"
            ],
            "application/vnd.google.colaboratory.intrinsic+json": {
              "type": "string"
            }
          },
          "metadata": {},
          "execution_count": 8
        }
      ]
    },
    {
      "cell_type": "markdown",
      "source": [
        "## Defining Neural network's number of layers, number of neurons, activation functions."
      ],
      "metadata": {
        "id": "OnxV7SLh9VdP"
      },
      "id": "OnxV7SLh9VdP"
    },
    {
      "cell_type": "code",
      "source": [
        "\n",
        "\n",
        "\n",
        "model = tf.keras.Sequential([\n",
        "    tf.keras.layers.Flatten(input_shape = [32, 32, 1]),\n",
        "    tf.keras.layers.Dense(800, kernel_initializer = 'random_normal',bias_initializer = 'zeros' ,activation = \"relu\"),\n",
        "    tf.keras.layers.Dense(700, kernel_initializer = 'random_normal',bias_initializer = 'zeros', activation = \"relu\"),\n",
        "    tf.keras.layers.Dense(600, kernel_initializer = 'random_normal',bias_initializer = 'zeros', activation = \"relu\"),\n",
        "    tf.keras.layers.Dense(600, kernel_initializer = 'random_normal',bias_initializer = 'zeros', activation = \"relu\"),\n",
        "    tf.keras.layers.Dense(600, kernel_initializer = 'random_normal',bias_initializer = 'zeros', activation = \"relu\"),\n",
        "    tf.keras.layers.Dense(400, kernel_initializer = 'random_normal',bias_initializer = 'zeros', activation = \"relu\"),\n",
        "    tf.keras.layers.Dense(10, activation = \"softmax\")\n",
        "])\n",
        "model.summary()"
      ],
      "metadata": {
        "colab": {
          "base_uri": "https://localhost:8080/"
        },
        "id": "R_rQwpRPPzS-",
        "outputId": "31698972-fbef-4a35-de13-88c44ed619b3"
      },
      "id": "R_rQwpRPPzS-",
      "execution_count": 13,
      "outputs": [
        {
          "output_type": "stream",
          "name": "stdout",
          "text": [
            "Model: \"sequential_1\"\n",
            "_________________________________________________________________\n",
            " Layer (type)                Output Shape              Param #   \n",
            "=================================================================\n",
            " flatten_1 (Flatten)         (None, 1024)              0         \n",
            "                                                                 \n",
            " dense_21 (Dense)            (None, 800)               820000    \n",
            "                                                                 \n",
            " dense_22 (Dense)            (None, 700)               560700    \n",
            "                                                                 \n",
            " dense_23 (Dense)            (None, 600)               420600    \n",
            "                                                                 \n",
            " dense_24 (Dense)            (None, 600)               360600    \n",
            "                                                                 \n",
            " dense_25 (Dense)            (None, 600)               360600    \n",
            "                                                                 \n",
            " dense_26 (Dense)            (None, 400)               240400    \n",
            "                                                                 \n",
            " dense_27 (Dense)            (None, 10)                4010      \n",
            "                                                                 \n",
            "=================================================================\n",
            "Total params: 2766910 (10.55 MB)\n",
            "Trainable params: 2766910 (10.55 MB)\n",
            "Non-trainable params: 0 (0.00 Byte)\n",
            "_________________________________________________________________\n"
          ]
        }
      ]
    },
    {
      "cell_type": "markdown",
      "source": [
        "### Defining model's optimizer, loss, metrics"
      ],
      "metadata": {
        "id": "r1oMSjsh9q8z"
      },
      "id": "r1oMSjsh9q8z"
    },
    {
      "cell_type": "code",
      "source": [
        "model.compile(loss = \"sparse_categorical_crossentropy\",\n",
        "              optimizer = \"sgd\",\n",
        "              metrics = \"accuracy\")"
      ],
      "metadata": {
        "id": "94Y-bZn1QsSU"
      },
      "id": "94Y-bZn1QsSU",
      "execution_count": 14,
      "outputs": []
    },
    {
      "cell_type": "markdown",
      "source": [
        "### Defining callbacks and fitting the model\n",
        "The early stopping callback ensures that the model stops fitting data if it hasn't observed significant change in loss over the given 'patience' number of epochs."
      ],
      "metadata": {
        "id": "JymUi3mE91sE"
      },
      "id": "JymUi3mE91sE"
    },
    {
      "cell_type": "code",
      "source": [
        "checkpoints = tf.keras.callbacks.ModelCheckpoint('./checkpoint.model.keras')\n",
        "early_stopping_cb = tf.keras.callbacks.EarlyStopping(patience = 10,\n",
        "                                                     restore_best_weights = True)\n",
        "history = model.fit(X_train, y_train, epochs = 30, validation_data = (X_valid, y_valid), callbacks=[checkpoints, early_stopping_cb])"
      ],
      "metadata": {
        "colab": {
          "base_uri": "https://localhost:8080/"
        },
        "id": "vgLgmw-pRaPl",
        "outputId": "056a663e-c7f9-47e0-891a-07fa804ee6dd"
      },
      "id": "vgLgmw-pRaPl",
      "execution_count": 17,
      "outputs": [
        {
          "output_type": "stream",
          "name": "stdout",
          "text": [
            "Epoch 1/30\n",
            "1250/1250 [==============================] - 5s 4ms/step - loss: nan - accuracy: 0.0997 - val_loss: nan - val_accuracy: 0.1014\n",
            "Epoch 2/30\n",
            "1250/1250 [==============================] - 6s 5ms/step - loss: nan - accuracy: 0.0997 - val_loss: nan - val_accuracy: 0.1014\n",
            "Epoch 3/30\n",
            "1250/1250 [==============================] - 5s 4ms/step - loss: nan - accuracy: 0.0997 - val_loss: nan - val_accuracy: 0.1014\n",
            "Epoch 4/30\n",
            "1250/1250 [==============================] - 5s 4ms/step - loss: nan - accuracy: 0.0997 - val_loss: nan - val_accuracy: 0.1014\n",
            "Epoch 5/30\n",
            "1250/1250 [==============================] - 6s 5ms/step - loss: nan - accuracy: 0.0997 - val_loss: nan - val_accuracy: 0.1014\n",
            "Epoch 6/30\n",
            "1250/1250 [==============================] - 5s 4ms/step - loss: nan - accuracy: 0.0997 - val_loss: nan - val_accuracy: 0.1014\n",
            "Epoch 7/30\n",
            "1250/1250 [==============================] - 6s 5ms/step - loss: nan - accuracy: 0.0997 - val_loss: nan - val_accuracy: 0.1014\n",
            "Epoch 8/30\n",
            "1250/1250 [==============================] - 5s 4ms/step - loss: nan - accuracy: 0.0997 - val_loss: nan - val_accuracy: 0.1014\n",
            "Epoch 9/30\n",
            "1250/1250 [==============================] - 6s 5ms/step - loss: nan - accuracy: 0.0997 - val_loss: nan - val_accuracy: 0.1014\n",
            "Epoch 10/30\n",
            "1250/1250 [==============================] - 5s 4ms/step - loss: nan - accuracy: 0.0997 - val_loss: nan - val_accuracy: 0.1014\n"
          ]
        }
      ]
    },
    {
      "cell_type": "markdown",
      "source": [
        "### Evaluating the model"
      ],
      "metadata": {
        "id": "zO0AVjQ4-aoE"
      },
      "id": "zO0AVjQ4-aoE"
    },
    {
      "cell_type": "code",
      "source": [
        "model.evaluate(X_test, y_test)"
      ],
      "metadata": {
        "id": "LCgbNzkn540j",
        "outputId": "e2a4e999-7cfc-468d-d430-b9795b4b21ef",
        "colab": {
          "base_uri": "https://localhost:8080/"
        }
      },
      "id": "LCgbNzkn540j",
      "execution_count": 19,
      "outputs": [
        {
          "output_type": "stream",
          "name": "stdout",
          "text": [
            "313/313 [==============================] - 1s 3ms/step - loss: nan - accuracy: 0.1000\n"
          ]
        },
        {
          "output_type": "execute_result",
          "data": {
            "text/plain": [
              "[nan, 0.10000000149011612]"
            ]
          },
          "metadata": {},
          "execution_count": 19
        }
      ]
    },
    {
      "cell_type": "markdown",
      "source": [
        "## Tuning Hyperparameters\n",
        "\n",
        "Number of Hidden layers, Number of neurons in hiddens layers, Learning rate of optimizer, Choice of optimizer are conisdered as hyperparameters below. We then perform RandomSearch on the hyperparemeters with their ranges defined below."
      ],
      "metadata": {
        "id": "DL6EeFDk-tGV"
      },
      "id": "DL6EeFDk-tGV"
    },
    {
      "cell_type": "code",
      "source": [
        "def build_model(hp):\n",
        "  n_hidden = hp.Int(\"n_hidden\", min_value = 0, max_value = 10, default = 2)\n",
        "  n_neurons = hp.Int(\"n_neurons\", min_value = 10, max_value = 500, default = 3)\n",
        "  learning_rate = hp.Float(\"learning_rate\", min_value = 1e-4, max_value = 1e-2, sampling = \"log\")\n",
        "  optimizer = hp.Choice(\"optimizer\", values = [\"sgd\", \"adam\"])\n",
        "  if optimizer == \"sgd\":\n",
        "    optimizer = tf.keras.optimizers.SGD(learning_rate = learning_rate)\n",
        "  else:\n",
        "    optimizer = tf.keras.optimizers.Adam(learning_rate = learning_rate)\n",
        "  model = tf.keras.Sequential()\n",
        "  model.add(tf.keras.layers.Flatten(input_shape = [32,32,1]))\n",
        "  for i in range(n_hidden):\n",
        "    model.add(tf.keras.layers.Dense(n_neurons, activation = \"relu\"))\n",
        "  model.add(tf.keras.layers.Dense(10, activation = \"softmax\"))\n",
        "  model.compile(loss = \"sparse_categorical_crossentropy\", optimizer = optimizer, metrics = [\"accuracy\"])\n",
        "  return model\n",
        "\n"
      ],
      "metadata": {
        "id": "QLr5Fcqy4tX1"
      },
      "id": "QLr5Fcqy4tX1",
      "execution_count": null,
      "outputs": []
    },
    {
      "cell_type": "code",
      "source": [
        "random_search_tuner = kt.RandomSearch(build_model,\n",
        "                                  objective = \"accuracy\",\n",
        "                                  max_trials = 100,\n",
        "                                  seed = 42,\n",
        "                                  directory = \"cifarproject\",\n",
        "                                  project_name = \"random_search_runs\")\n",
        "random_search_tuner.search(X_train, y_train, epochs = 5, validation_data = (X_valid, y_valid))"
      ],
      "metadata": {
        "id": "hHVXI4rX40eE",
        "colab": {
          "base_uri": "https://localhost:8080/"
        },
        "outputId": "978089cb-0cbb-42e0-d0ad-b32a9b084358"
      },
      "id": "hHVXI4rX40eE",
      "execution_count": null,
      "outputs": [
        {
          "output_type": "stream",
          "name": "stdout",
          "text": [
            "Trial 100 Complete [00h 00m 42s]\n",
            "accuracy: 0.2178249955177307\n",
            "\n",
            "Best accuracy So Far: 0.3695499897003174\n",
            "Total elapsed time: 01h 00m 58s\n"
          ]
        }
      ]
    },
    {
      "cell_type": "markdown",
      "source": [
        "### Let's retrieve top 5 trial models' hyperparameters"
      ],
      "metadata": {
        "id": "ZFH8F_kK_ZVM"
      },
      "id": "ZFH8F_kK_ZVM"
    },
    {
      "cell_type": "code",
      "source": [
        "top5_trials = random_search_tuner.oracle.get_best_trials(num_trials = 5)\n",
        "for _ in top5_trials:\n",
        "  print(_.summary())"
      ],
      "metadata": {
        "id": "cjMrZObDipzu",
        "outputId": "693f9241-9e3e-4561-95a4-f07f503100cd",
        "colab": {
          "base_uri": "https://localhost:8080/"
        }
      },
      "id": "cjMrZObDipzu",
      "execution_count": null,
      "outputs": [
        {
          "output_type": "stream",
          "name": "stdout",
          "text": [
            "Trial 019 summary\n",
            "Hyperparameters:\n",
            "n_hidden: 7\n",
            "n_neurons: 464\n",
            "learning_rate: 0.0010712131812413617\n",
            "optimizer: sgd\n",
            "Score: 0.3695499897003174\n",
            "None\n",
            "Trial 017 summary\n",
            "Hyperparameters:\n",
            "n_hidden: 10\n",
            "n_neurons: 416\n",
            "learning_rate: 0.0009172617171127613\n",
            "optimizer: sgd\n",
            "Score: 0.3644999861717224\n",
            "None\n",
            "Trial 060 summary\n",
            "Hyperparameters:\n",
            "n_hidden: 7\n",
            "n_neurons: 365\n",
            "learning_rate: 0.00011631756169915276\n",
            "optimizer: adam\n",
            "Score: 0.35534998774528503\n",
            "None\n",
            "Trial 034 summary\n",
            "Hyperparameters:\n",
            "n_hidden: 10\n",
            "n_neurons: 452\n",
            "learning_rate: 0.00019430304760198347\n",
            "optimizer: adam\n",
            "Score: 0.3549000024795532\n",
            "None\n",
            "Trial 032 summary\n",
            "Hyperparameters:\n",
            "n_hidden: 8\n",
            "n_neurons: 393\n",
            "learning_rate: 0.0005070370705614628\n",
            "optimizer: sgd\n",
            "Score: 0.35397499799728394\n",
            "None\n"
          ]
        }
      ]
    },
    {
      "cell_type": "markdown",
      "source": [
        "### Defining Neural Network\n",
        "Based on the top 5 trial models' hyperparameters lets define a neural network with more number of layers and neurons."
      ],
      "metadata": {
        "id": "gxQdEgbm_tfz"
      },
      "id": "gxQdEgbm_tfz"
    },
    {
      "cell_type": "code",
      "source": [
        "best_trial = tf.keras.Sequential()\n",
        "best_trial.add(tf.keras.layers.Flatten(input_shape = [32,32,1]))\n",
        "for _ in range(20):\n",
        "  best_trial.add(tf.keras.layers.Dense(950, activation = \"relu\"))\n",
        "best_trial.add(tf.keras.layers.Dense(10, activation = \"softmax\"))\n",
        "\n",
        "best_trial.summary()"
      ],
      "metadata": {
        "id": "9jT3TwJQg8CC",
        "outputId": "2ff87791-4f50-44e7-8275-2df351fd4a34",
        "colab": {
          "base_uri": "https://localhost:8080/"
        }
      },
      "id": "9jT3TwJQg8CC",
      "execution_count": 9,
      "outputs": [
        {
          "output_type": "stream",
          "name": "stdout",
          "text": [
            "Model: \"sequential\"\n",
            "_________________________________________________________________\n",
            " Layer (type)                Output Shape              Param #   \n",
            "=================================================================\n",
            " flatten (Flatten)           (None, 1024)              0         \n",
            "                                                                 \n",
            " dense (Dense)               (None, 950)               973750    \n",
            "                                                                 \n",
            " dense_1 (Dense)             (None, 950)               903450    \n",
            "                                                                 \n",
            " dense_2 (Dense)             (None, 950)               903450    \n",
            "                                                                 \n",
            " dense_3 (Dense)             (None, 950)               903450    \n",
            "                                                                 \n",
            " dense_4 (Dense)             (None, 950)               903450    \n",
            "                                                                 \n",
            " dense_5 (Dense)             (None, 950)               903450    \n",
            "                                                                 \n",
            " dense_6 (Dense)             (None, 950)               903450    \n",
            "                                                                 \n",
            " dense_7 (Dense)             (None, 950)               903450    \n",
            "                                                                 \n",
            " dense_8 (Dense)             (None, 950)               903450    \n",
            "                                                                 \n",
            " dense_9 (Dense)             (None, 950)               903450    \n",
            "                                                                 \n",
            " dense_10 (Dense)            (None, 950)               903450    \n",
            "                                                                 \n",
            " dense_11 (Dense)            (None, 950)               903450    \n",
            "                                                                 \n",
            " dense_12 (Dense)            (None, 950)               903450    \n",
            "                                                                 \n",
            " dense_13 (Dense)            (None, 950)               903450    \n",
            "                                                                 \n",
            " dense_14 (Dense)            (None, 950)               903450    \n",
            "                                                                 \n",
            " dense_15 (Dense)            (None, 950)               903450    \n",
            "                                                                 \n",
            " dense_16 (Dense)            (None, 950)               903450    \n",
            "                                                                 \n",
            " dense_17 (Dense)            (None, 950)               903450    \n",
            "                                                                 \n",
            " dense_18 (Dense)            (None, 950)               903450    \n",
            "                                                                 \n",
            " dense_19 (Dense)            (None, 950)               903450    \n",
            "                                                                 \n",
            " dense_20 (Dense)            (None, 10)                9510      \n",
            "                                                                 \n",
            "=================================================================\n",
            "Total params: 18148810 (69.23 MB)\n",
            "Trainable params: 18148810 (69.23 MB)\n",
            "Non-trainable params: 0 (0.00 Byte)\n",
            "_________________________________________________________________\n"
          ]
        }
      ]
    },
    {
      "cell_type": "code",
      "source": [
        "optimizer = tf.keras.optimizers.Adam(learning_rate = 0.0001)\n",
        "best_trial.compile(loss = \"sparse_categorical_crossentropy\", optimizer = optimizer, metrics = [\"accuracy\"])"
      ],
      "metadata": {
        "id": "xyyMBa7BtAdY"
      },
      "id": "xyyMBa7BtAdY",
      "execution_count": 10,
      "outputs": []
    },
    {
      "cell_type": "code",
      "source": [
        "checkpoints_b = tf.keras.callbacks.ModelCheckpoint('./checkpoint_b.model.keras')\n",
        "early_stopping_cb_b = tf.keras.callbacks.EarlyStopping(patience = 10,\n",
        "                                                     restore_best_weights = True)\n",
        "history_b = best_trial.fit(X_train, y_train, epochs = 40, validation_data = (X_valid, y_valid), callbacks=[early_stopping_cb_b, checkpoints_b])"
      ],
      "metadata": {
        "id": "hcvzK-SmwsvO",
        "outputId": "4d2f4a7a-3bc3-4692-baa5-7b777073444c",
        "colab": {
          "base_uri": "https://localhost:8080/"
        }
      },
      "id": "hcvzK-SmwsvO",
      "execution_count": 11,
      "outputs": [
        {
          "output_type": "stream",
          "name": "stdout",
          "text": [
            "Epoch 1/40\n",
            "1250/1250 [==============================] - 21s 11ms/step - loss: 2.1391 - accuracy: 0.1784 - val_loss: 2.0636 - val_accuracy: 0.2058\n",
            "Epoch 2/40\n",
            "1250/1250 [==============================] - 13s 10ms/step - loss: 2.0711 - accuracy: 0.2037 - val_loss: 2.0804 - val_accuracy: 0.2176\n",
            "Epoch 3/40\n",
            "1250/1250 [==============================] - 14s 11ms/step - loss: 2.0106 - accuracy: 0.2396 - val_loss: 1.9697 - val_accuracy: 0.2560\n",
            "Epoch 4/40\n",
            "1250/1250 [==============================] - 13s 11ms/step - loss: 1.9694 - accuracy: 0.2604 - val_loss: 1.9568 - val_accuracy: 0.2585\n",
            "Epoch 5/40\n",
            "1250/1250 [==============================] - 13s 10ms/step - loss: 1.9446 - accuracy: 0.2709 - val_loss: 1.9129 - val_accuracy: 0.2735\n",
            "Epoch 6/40\n",
            "1250/1250 [==============================] - 13s 11ms/step - loss: 1.9216 - accuracy: 0.2803 - val_loss: 1.9292 - val_accuracy: 0.2766\n",
            "Epoch 7/40\n",
            "1250/1250 [==============================] - 13s 11ms/step - loss: 1.8799 - accuracy: 0.2964 - val_loss: 1.9437 - val_accuracy: 0.2826\n",
            "Epoch 8/40\n",
            "1250/1250 [==============================] - 13s 10ms/step - loss: 1.8489 - accuracy: 0.3165 - val_loss: 1.8338 - val_accuracy: 0.3207\n",
            "Epoch 9/40\n",
            "1250/1250 [==============================] - 13s 10ms/step - loss: 1.8149 - accuracy: 0.3308 - val_loss: 1.8456 - val_accuracy: 0.3223\n",
            "Epoch 10/40\n",
            "1250/1250 [==============================] - 13s 11ms/step - loss: 1.7912 - accuracy: 0.3406 - val_loss: 1.8190 - val_accuracy: 0.3360\n",
            "Epoch 11/40\n",
            "1250/1250 [==============================] - 13s 10ms/step - loss: 1.7764 - accuracy: 0.3537 - val_loss: 1.8329 - val_accuracy: 0.3450\n",
            "Epoch 12/40\n",
            "1250/1250 [==============================] - 13s 10ms/step - loss: 1.7363 - accuracy: 0.3677 - val_loss: 1.8311 - val_accuracy: 0.3337\n",
            "Epoch 13/40\n",
            "1250/1250 [==============================] - 13s 11ms/step - loss: 1.6980 - accuracy: 0.3831 - val_loss: 1.7938 - val_accuracy: 0.3549\n",
            "Epoch 14/40\n",
            "1250/1250 [==============================] - 13s 11ms/step - loss: 1.6698 - accuracy: 0.3992 - val_loss: 1.7615 - val_accuracy: 0.3623\n",
            "Epoch 15/40\n",
            "1250/1250 [==============================] - 13s 10ms/step - loss: 1.6390 - accuracy: 0.4124 - val_loss: 1.7788 - val_accuracy: 0.3692\n",
            "Epoch 16/40\n",
            "1250/1250 [==============================] - 13s 10ms/step - loss: 1.6012 - accuracy: 0.4259 - val_loss: 1.7717 - val_accuracy: 0.3758\n",
            "Epoch 17/40\n",
            "1250/1250 [==============================] - 13s 11ms/step - loss: 1.5625 - accuracy: 0.4421 - val_loss: 1.7659 - val_accuracy: 0.3794\n",
            "Epoch 18/40\n",
            "1250/1250 [==============================] - 13s 11ms/step - loss: 1.5228 - accuracy: 0.4576 - val_loss: 1.7628 - val_accuracy: 0.3917\n",
            "Epoch 19/40\n",
            "1250/1250 [==============================] - 13s 11ms/step - loss: 1.4803 - accuracy: 0.4739 - val_loss: 1.7646 - val_accuracy: 0.3849\n",
            "Epoch 20/40\n",
            "1250/1250 [==============================] - 13s 10ms/step - loss: 1.4611 - accuracy: 0.4861 - val_loss: 1.7479 - val_accuracy: 0.4000\n",
            "Epoch 21/40\n",
            "1250/1250 [==============================] - 19s 15ms/step - loss: 1.4248 - accuracy: 0.4955 - val_loss: 1.8666 - val_accuracy: 0.3830\n",
            "Epoch 22/40\n",
            "1250/1250 [==============================] - 13s 11ms/step - loss: 1.3704 - accuracy: 0.5173 - val_loss: 1.8121 - val_accuracy: 0.4033\n",
            "Epoch 23/40\n",
            "1250/1250 [==============================] - 13s 11ms/step - loss: 1.3132 - accuracy: 0.5399 - val_loss: 1.8261 - val_accuracy: 0.3931\n",
            "Epoch 24/40\n",
            "1250/1250 [==============================] - 13s 11ms/step - loss: 1.2959 - accuracy: 0.5442 - val_loss: 1.8702 - val_accuracy: 0.4031\n",
            "Epoch 25/40\n",
            "1250/1250 [==============================] - 13s 11ms/step - loss: 1.2187 - accuracy: 0.5716 - val_loss: 1.7927 - val_accuracy: 0.4050\n",
            "Epoch 26/40\n",
            "1250/1250 [==============================] - 14s 11ms/step - loss: 1.1806 - accuracy: 0.5883 - val_loss: 1.8366 - val_accuracy: 0.4052\n",
            "Epoch 27/40\n",
            "1250/1250 [==============================] - 13s 10ms/step - loss: 1.1499 - accuracy: 0.5955 - val_loss: 1.9540 - val_accuracy: 0.3968\n",
            "Epoch 28/40\n",
            "1250/1250 [==============================] - 13s 10ms/step - loss: 1.1838 - accuracy: 0.5878 - val_loss: 1.9234 - val_accuracy: 0.4084\n",
            "Epoch 29/40\n",
            "1250/1250 [==============================] - 13s 10ms/step - loss: 1.1151 - accuracy: 0.6129 - val_loss: 2.0148 - val_accuracy: 0.3966\n",
            "Epoch 30/40\n",
            "1250/1250 [==============================] - 13s 10ms/step - loss: 1.0786 - accuracy: 0.6226 - val_loss: 2.0344 - val_accuracy: 0.3200\n"
          ]
        }
      ]
    },
    {
      "cell_type": "markdown",
      "source": [
        "### Test accuracy of our final Neural Network"
      ],
      "metadata": {
        "id": "DJub6ezPAHgo"
      },
      "id": "DJub6ezPAHgo"
    },
    {
      "cell_type": "code",
      "source": [
        "best_trial.evaluate(X_test, y_test)"
      ],
      "metadata": {
        "id": "5ha-fahgxUlX",
        "outputId": "f7d1b9a0-9f58-4711-a113-0265f7dd8d09",
        "colab": {
          "base_uri": "https://localhost:8080/"
        }
      },
      "id": "5ha-fahgxUlX",
      "execution_count": 12,
      "outputs": [
        {
          "output_type": "stream",
          "name": "stdout",
          "text": [
            "313/313 [==============================] - 2s 5ms/step - loss: 1.7512 - accuracy: 0.4005\n"
          ]
        },
        {
          "output_type": "execute_result",
          "data": {
            "text/plain": [
              "[1.7512485980987549, 0.40049999952316284]"
            ]
          },
          "metadata": {},
          "execution_count": 12
        }
      ]
    }
  ],
  "metadata": {
    "kernelspec": {
      "display_name": "Python 3.10 (tensorflow)",
      "language": "python",
      "name": "tensorflow"
    },
    "language_info": {
      "codemirror_mode": {
        "name": "ipython",
        "version": 3
      },
      "file_extension": ".py",
      "mimetype": "text/x-python",
      "name": "python",
      "nbconvert_exporter": "python",
      "pygments_lexer": "ipython3",
      "version": "3.10.10"
    },
    "colab": {
      "provenance": [],
      "gpuType": "T4"
    },
    "accelerator": "GPU"
  },
  "nbformat": 4,
  "nbformat_minor": 5
}