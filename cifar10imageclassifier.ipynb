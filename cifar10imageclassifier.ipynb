{
  "cells": [
    {
      "cell_type": "code",
      "execution_count": 8,
      "id": "0088e301-b45b-4cff-bcb9-9552e3b8fe30",
      "metadata": {
        "id": "0088e301-b45b-4cff-bcb9-9552e3b8fe30",
        "outputId": "eea22548-b6f7-4c56-c82e-40cc7368e8d2",
        "colab": {
          "base_uri": "https://localhost:8080/"
        }
      },
      "outputs": [
        {
          "output_type": "stream",
          "name": "stdout",
          "text": [
            "Requirement already satisfied: keras-cv in /usr/local/lib/python3.10/dist-packages (0.9.0)\n",
            "Requirement already satisfied: tensorflow in /usr/local/lib/python3.10/dist-packages (2.16.1)\n",
            "Requirement already satisfied: packaging in /usr/local/lib/python3.10/dist-packages (from keras-cv) (24.1)\n",
            "Requirement already satisfied: absl-py in /usr/local/lib/python3.10/dist-packages (from keras-cv) (1.4.0)\n",
            "Requirement already satisfied: regex in /usr/local/lib/python3.10/dist-packages (from keras-cv) (2024.5.15)\n",
            "Requirement already satisfied: tensorflow-datasets in /usr/local/lib/python3.10/dist-packages (from keras-cv) (4.9.6)\n",
            "Requirement already satisfied: keras-core in /usr/local/lib/python3.10/dist-packages (from keras-cv) (0.1.7)\n",
            "Requirement already satisfied: kagglehub in /usr/local/lib/python3.10/dist-packages (from keras-cv) (0.2.5)\n",
            "Requirement already satisfied: astunparse>=1.6.0 in /usr/local/lib/python3.10/dist-packages (from tensorflow) (1.6.3)\n",
            "Requirement already satisfied: flatbuffers>=23.5.26 in /usr/local/lib/python3.10/dist-packages (from tensorflow) (24.3.25)\n",
            "Requirement already satisfied: gast!=0.5.0,!=0.5.1,!=0.5.2,>=0.2.1 in /usr/local/lib/python3.10/dist-packages (from tensorflow) (0.5.4)\n",
            "Requirement already satisfied: google-pasta>=0.1.1 in /usr/local/lib/python3.10/dist-packages (from tensorflow) (0.2.0)\n",
            "Requirement already satisfied: h5py>=3.10.0 in /usr/local/lib/python3.10/dist-packages (from tensorflow) (3.11.0)\n",
            "Requirement already satisfied: libclang>=13.0.0 in /usr/local/lib/python3.10/dist-packages (from tensorflow) (18.1.1)\n",
            "Requirement already satisfied: ml-dtypes~=0.3.1 in /usr/local/lib/python3.10/dist-packages (from tensorflow) (0.3.2)\n",
            "Requirement already satisfied: opt-einsum>=2.3.2 in /usr/local/lib/python3.10/dist-packages (from tensorflow) (3.3.0)\n",
            "Requirement already satisfied: protobuf!=4.21.0,!=4.21.1,!=4.21.2,!=4.21.3,!=4.21.4,!=4.21.5,<5.0.0dev,>=3.20.3 in /usr/local/lib/python3.10/dist-packages (from tensorflow) (3.20.3)\n",
            "Requirement already satisfied: requests<3,>=2.21.0 in /usr/local/lib/python3.10/dist-packages (from tensorflow) (2.31.0)\n",
            "Requirement already satisfied: setuptools in /usr/local/lib/python3.10/dist-packages (from tensorflow) (67.7.2)\n",
            "Requirement already satisfied: six>=1.12.0 in /usr/local/lib/python3.10/dist-packages (from tensorflow) (1.16.0)\n",
            "Requirement already satisfied: termcolor>=1.1.0 in /usr/local/lib/python3.10/dist-packages (from tensorflow) (2.4.0)\n",
            "Requirement already satisfied: typing-extensions>=3.6.6 in /usr/local/lib/python3.10/dist-packages (from tensorflow) (4.12.2)\n",
            "Requirement already satisfied: wrapt>=1.11.0 in /usr/local/lib/python3.10/dist-packages (from tensorflow) (1.14.1)\n",
            "Requirement already satisfied: grpcio<2.0,>=1.24.3 in /usr/local/lib/python3.10/dist-packages (from tensorflow) (1.64.1)\n",
            "Requirement already satisfied: tensorboard<2.17,>=2.16 in /usr/local/lib/python3.10/dist-packages (from tensorflow) (2.16.2)\n",
            "Requirement already satisfied: keras>=3.0.0 in /usr/local/lib/python3.10/dist-packages (from tensorflow) (3.3.3)\n",
            "Requirement already satisfied: tensorflow-io-gcs-filesystem>=0.23.1 in /usr/local/lib/python3.10/dist-packages (from tensorflow) (0.37.0)\n",
            "Requirement already satisfied: numpy<2.0.0,>=1.23.5 in /usr/local/lib/python3.10/dist-packages (from tensorflow) (1.25.2)\n",
            "Requirement already satisfied: wheel<1.0,>=0.23.0 in /usr/local/lib/python3.10/dist-packages (from astunparse>=1.6.0->tensorflow) (0.43.0)\n",
            "Requirement already satisfied: rich in /usr/local/lib/python3.10/dist-packages (from keras>=3.0.0->tensorflow) (13.7.1)\n",
            "Requirement already satisfied: namex in /usr/local/lib/python3.10/dist-packages (from keras>=3.0.0->tensorflow) (0.0.8)\n",
            "Requirement already satisfied: optree in /usr/local/lib/python3.10/dist-packages (from keras>=3.0.0->tensorflow) (0.11.0)\n",
            "Requirement already satisfied: charset-normalizer<4,>=2 in /usr/local/lib/python3.10/dist-packages (from requests<3,>=2.21.0->tensorflow) (3.3.2)\n",
            "Requirement already satisfied: idna<4,>=2.5 in /usr/local/lib/python3.10/dist-packages (from requests<3,>=2.21.0->tensorflow) (3.7)\n",
            "Requirement already satisfied: urllib3<3,>=1.21.1 in /usr/local/lib/python3.10/dist-packages (from requests<3,>=2.21.0->tensorflow) (2.0.7)\n",
            "Requirement already satisfied: certifi>=2017.4.17 in /usr/local/lib/python3.10/dist-packages (from requests<3,>=2.21.0->tensorflow) (2024.6.2)\n",
            "Requirement already satisfied: markdown>=2.6.8 in /usr/local/lib/python3.10/dist-packages (from tensorboard<2.17,>=2.16->tensorflow) (3.6)\n",
            "Requirement already satisfied: tensorboard-data-server<0.8.0,>=0.7.0 in /usr/local/lib/python3.10/dist-packages (from tensorboard<2.17,>=2.16->tensorflow) (0.7.2)\n",
            "Requirement already satisfied: werkzeug>=1.0.1 in /usr/local/lib/python3.10/dist-packages (from tensorboard<2.17,>=2.16->tensorflow) (3.0.3)\n",
            "Requirement already satisfied: tqdm in /usr/local/lib/python3.10/dist-packages (from kagglehub->keras-cv) (4.66.4)\n",
            "Requirement already satisfied: dm-tree in /usr/local/lib/python3.10/dist-packages (from keras-core->keras-cv) (0.1.8)\n",
            "Requirement already satisfied: click in /usr/local/lib/python3.10/dist-packages (from tensorflow-datasets->keras-cv) (8.1.7)\n",
            "Requirement already satisfied: immutabledict in /usr/local/lib/python3.10/dist-packages (from tensorflow-datasets->keras-cv) (4.2.0)\n",
            "Requirement already satisfied: promise in /usr/local/lib/python3.10/dist-packages (from tensorflow-datasets->keras-cv) (2.3)\n",
            "Requirement already satisfied: psutil in /usr/local/lib/python3.10/dist-packages (from tensorflow-datasets->keras-cv) (5.9.5)\n",
            "Requirement already satisfied: pyarrow in /usr/local/lib/python3.10/dist-packages (from tensorflow-datasets->keras-cv) (14.0.2)\n",
            "Requirement already satisfied: simple-parsing in /usr/local/lib/python3.10/dist-packages (from tensorflow-datasets->keras-cv) (0.1.5)\n",
            "Requirement already satisfied: tensorflow-metadata in /usr/local/lib/python3.10/dist-packages (from tensorflow-datasets->keras-cv) (1.15.0)\n",
            "Requirement already satisfied: toml in /usr/local/lib/python3.10/dist-packages (from tensorflow-datasets->keras-cv) (0.10.2)\n",
            "Requirement already satisfied: array-record>=0.5.0 in /usr/local/lib/python3.10/dist-packages (from tensorflow-datasets->keras-cv) (0.5.1)\n",
            "Requirement already satisfied: etils[enp,epath,epy,etree]>=1.6.0 in /usr/local/lib/python3.10/dist-packages (from tensorflow-datasets->keras-cv) (1.7.0)\n",
            "Requirement already satisfied: fsspec in /usr/local/lib/python3.10/dist-packages (from etils[enp,epath,epy,etree]>=1.6.0->tensorflow-datasets->keras-cv) (2023.6.0)\n",
            "Requirement already satisfied: importlib_resources in /usr/local/lib/python3.10/dist-packages (from etils[enp,epath,epy,etree]>=1.6.0->tensorflow-datasets->keras-cv) (6.4.0)\n",
            "Requirement already satisfied: zipp in /usr/local/lib/python3.10/dist-packages (from etils[enp,epath,epy,etree]>=1.6.0->tensorflow-datasets->keras-cv) (3.19.2)\n",
            "Requirement already satisfied: MarkupSafe>=2.1.1 in /usr/local/lib/python3.10/dist-packages (from werkzeug>=1.0.1->tensorboard<2.17,>=2.16->tensorflow) (2.1.5)\n",
            "Requirement already satisfied: markdown-it-py>=2.2.0 in /usr/local/lib/python3.10/dist-packages (from rich->keras>=3.0.0->tensorflow) (3.0.0)\n",
            "Requirement already satisfied: pygments<3.0.0,>=2.13.0 in /usr/local/lib/python3.10/dist-packages (from rich->keras>=3.0.0->tensorflow) (2.16.1)\n",
            "Requirement already satisfied: docstring-parser~=0.15 in /usr/local/lib/python3.10/dist-packages (from simple-parsing->tensorflow-datasets->keras-cv) (0.16)\n",
            "Requirement already satisfied: mdurl~=0.1 in /usr/local/lib/python3.10/dist-packages (from markdown-it-py>=2.2.0->rich->keras>=3.0.0->tensorflow) (0.1.2)\n",
            "Requirement already satisfied: keras in /usr/local/lib/python3.10/dist-packages (3.3.3)\n",
            "Requirement already satisfied: absl-py in /usr/local/lib/python3.10/dist-packages (from keras) (1.4.0)\n",
            "Requirement already satisfied: numpy in /usr/local/lib/python3.10/dist-packages (from keras) (1.25.2)\n",
            "Requirement already satisfied: rich in /usr/local/lib/python3.10/dist-packages (from keras) (13.7.1)\n",
            "Requirement already satisfied: namex in /usr/local/lib/python3.10/dist-packages (from keras) (0.0.8)\n",
            "Requirement already satisfied: h5py in /usr/local/lib/python3.10/dist-packages (from keras) (3.11.0)\n",
            "Requirement already satisfied: optree in /usr/local/lib/python3.10/dist-packages (from keras) (0.11.0)\n",
            "Requirement already satisfied: ml-dtypes in /usr/local/lib/python3.10/dist-packages (from keras) (0.3.2)\n",
            "Requirement already satisfied: typing-extensions>=4.0.0 in /usr/local/lib/python3.10/dist-packages (from optree->keras) (4.12.2)\n",
            "Requirement already satisfied: markdown-it-py>=2.2.0 in /usr/local/lib/python3.10/dist-packages (from rich->keras) (3.0.0)\n",
            "Requirement already satisfied: pygments<3.0.0,>=2.13.0 in /usr/local/lib/python3.10/dist-packages (from rich->keras) (2.16.1)\n",
            "Requirement already satisfied: mdurl~=0.1 in /usr/local/lib/python3.10/dist-packages (from markdown-it-py>=2.2.0->rich->keras) (0.1.2)\n"
          ]
        }
      ],
      "source": [
        "!pip install --upgrade keras-cv tensorflow\n",
        "!pip install --upgrade keras\n",
        "import tensorflow as tf\n",
        "from matplotlib import pyplot as plt\n",
        "%matplotlib inline\n",
        "import numpy as np\n",
        "import keras\n"
      ]
    },
    {
      "cell_type": "code",
      "source": [
        "cifar10 = tf.keras.datasets.cifar10.load_data()\n",
        "(X_train_full, y_train_full), (X_test, y_test) = cifar10\n"
      ],
      "metadata": {
        "id": "9f97cZgJOE1l"
      },
      "id": "9f97cZgJOE1l",
      "execution_count": 9,
      "outputs": []
    },
    {
      "cell_type": "code",
      "source": [
        "keras.version()"
      ],
      "metadata": {
        "id": "8dfrk5wn7nui",
        "outputId": "b07581cd-96e5-4b35-b1f6-e9a283899a01",
        "colab": {
          "base_uri": "https://localhost:8080/",
          "height": 35
        }
      },
      "id": "8dfrk5wn7nui",
      "execution_count": 10,
      "outputs": [
        {
          "output_type": "execute_result",
          "data": {
            "text/plain": [
              "'3.3.3'"
            ],
            "application/vnd.google.colaboratory.intrinsic+json": {
              "type": "string"
            }
          },
          "metadata": {},
          "execution_count": 10
        }
      ]
    },
    {
      "cell_type": "code",
      "source": [
        "X_train_full.shape"
      ],
      "metadata": {
        "id": "LXGo0Eu2uI1Q",
        "outputId": "d9112ee4-50e6-4802-c2f0-de41a7ebc76b",
        "colab": {
          "base_uri": "https://localhost:8080/"
        }
      },
      "id": "LXGo0Eu2uI1Q",
      "execution_count": 11,
      "outputs": [
        {
          "output_type": "execute_result",
          "data": {
            "text/plain": [
              "(50000, 32, 32, 3)"
            ]
          },
          "metadata": {},
          "execution_count": 11
        }
      ]
    },
    {
      "cell_type": "code",
      "source": [
        "to_grayscale = keras.layers.preprocessing.Grayscale()\n",
        "X_train_full = to_grayscale(X_train_full)\n",
        "X_test = to_grayscale(X_test)"
      ],
      "metadata": {
        "id": "KCil1i1XlVPo",
        "outputId": "45b45e12-9127-485e-e58d-3b999434fca3",
        "colab": {
          "base_uri": "https://localhost:8080/",
          "height": 173
        }
      },
      "id": "KCil1i1XlVPo",
      "execution_count": 14,
      "outputs": [
        {
          "output_type": "error",
          "ename": "AttributeError",
          "evalue": "module 'keras.api.layers' has no attribute 'preprocessing'",
          "traceback": [
            "\u001b[0;31m---------------------------------------------------------------------------\u001b[0m",
            "\u001b[0;31mAttributeError\u001b[0m                            Traceback (most recent call last)",
            "\u001b[0;32m<ipython-input-14-79716c27796c>\u001b[0m in \u001b[0;36m<cell line: 1>\u001b[0;34m()\u001b[0m\n\u001b[0;32m----> 1\u001b[0;31m \u001b[0mto_grayscale\u001b[0m \u001b[0;34m=\u001b[0m \u001b[0mkeras\u001b[0m\u001b[0;34m.\u001b[0m\u001b[0mlayers\u001b[0m\u001b[0;34m.\u001b[0m\u001b[0mpreprocessing\u001b[0m\u001b[0;34m.\u001b[0m\u001b[0mGrayscale\u001b[0m\u001b[0;34m(\u001b[0m\u001b[0;34m)\u001b[0m\u001b[0;34m\u001b[0m\u001b[0;34m\u001b[0m\u001b[0m\n\u001b[0m\u001b[1;32m      2\u001b[0m \u001b[0mX_train_full\u001b[0m \u001b[0;34m=\u001b[0m \u001b[0mto_grayscale\u001b[0m\u001b[0;34m(\u001b[0m\u001b[0mX_train_full\u001b[0m\u001b[0;34m)\u001b[0m\u001b[0;34m\u001b[0m\u001b[0;34m\u001b[0m\u001b[0m\n\u001b[1;32m      3\u001b[0m \u001b[0mX_test\u001b[0m \u001b[0;34m=\u001b[0m \u001b[0mto_grayscale\u001b[0m\u001b[0;34m(\u001b[0m\u001b[0mX_test\u001b[0m\u001b[0;34m)\u001b[0m\u001b[0;34m\u001b[0m\u001b[0;34m\u001b[0m\u001b[0m\n",
            "\u001b[0;31mAttributeError\u001b[0m: module 'keras.api.layers' has no attribute 'preprocessing'"
          ]
        }
      ]
    },
    {
      "cell_type": "code",
      "source": [
        "X_train, y_train = X_train_full[:-10000], y_train_full[:-10000]\n",
        "X_valid, y_valid = X_train_full[-10000:], y_train_full[-10000:]"
      ],
      "metadata": {
        "id": "3UObF7b7nm-e"
      },
      "id": "3UObF7b7nm-e",
      "execution_count": 29,
      "outputs": []
    },
    {
      "cell_type": "code",
      "source": [
        "X_train[1]"
      ],
      "metadata": {
        "id": "RGxsiGCcpZa2",
        "outputId": "2fbd5390-f0d8-49a9-8023-40893ace49f9",
        "colab": {
          "base_uri": "https://localhost:8080/"
        }
      },
      "id": "RGxsiGCcpZa2",
      "execution_count": 32,
      "outputs": [
        {
          "output_type": "execute_result",
          "data": {
            "text/plain": [
              "array([[21.33333333, 53.33333333, 53.33333333],\n",
              "       [21.33333333, 53.33333333,  0.        ],\n",
              "       [42.66666667, 32.        ,  0.        ],\n",
              "       [ 0.        ,  0.        , 53.33333333],\n",
              "       [64.        , 21.33333333, 21.33333333],\n",
              "       [21.33333333, 74.66666667, 42.66666667],\n",
              "       [53.33333333, 10.66666667,  0.        ],\n",
              "       [21.33333333, 10.66666667, 64.        ],\n",
              "       [32.        ,  0.        , 32.        ],\n",
              "       [21.33333333, 32.        , 10.66666667],\n",
              "       [74.66666667, 53.33333333, 10.66666667],\n",
              "       [10.66666667, 32.        ,  0.        ],\n",
              "       [42.66666667, 32.        , 42.66666667],\n",
              "       [53.33333333, 53.33333333, 74.66666667],\n",
              "       [74.66666667, 64.        , 64.        ],\n",
              "       [32.        , 74.66666667, 53.33333333],\n",
              "       [64.        , 10.66666667, 10.66666667],\n",
              "       [21.33333333, 64.        , 53.33333333],\n",
              "       [ 0.        , 42.66666667, 10.66666667],\n",
              "       [53.33333333, 10.66666667, 10.66666667],\n",
              "       [10.66666667, 42.66666667, 53.33333333],\n",
              "       [74.66666667, 21.33333333,  0.        ],\n",
              "       [32.        ,  0.        , 74.66666667],\n",
              "       [53.33333333, 42.66666667, 74.66666667],\n",
              "       [21.33333333,  0.        , 21.33333333],\n",
              "       [21.33333333,  0.        , 74.66666667],\n",
              "       [21.33333333, 21.33333333, 64.        ],\n",
              "       [74.66666667, 32.        , 53.33333333],\n",
              "       [21.33333333, 21.33333333, 21.33333333],\n",
              "       [64.        , 53.33333333, 21.33333333],\n",
              "       [ 0.        , 10.66666667, 32.        ],\n",
              "       [21.33333333, 32.        , 32.        ]])"
            ]
          },
          "metadata": {},
          "execution_count": 32
        }
      ]
    },
    {
      "cell_type": "code",
      "source": [
        "X_train.shape"
      ],
      "metadata": {
        "id": "DkAHh_bYpNA3",
        "outputId": "6201e109-6e32-4fda-d862-4a6327fa28b6",
        "colab": {
          "base_uri": "https://localhost:8080/"
        }
      },
      "id": "DkAHh_bYpNA3",
      "execution_count": 20,
      "outputs": [
        {
          "output_type": "execute_result",
          "data": {
            "text/plain": [
              "(40000, 32, 32, 3)"
            ]
          },
          "metadata": {},
          "execution_count": 20
        }
      ]
    },
    {
      "cell_type": "code",
      "source": [
        "p = [1,1,1,1]\n",
        "for i in p:\n",
        "  i = 5\n",
        "p"
      ],
      "metadata": {
        "id": "fWEtb5Ubn26-",
        "outputId": "d7d6a78b-418c-4caa-eb76-838054916d9d",
        "colab": {
          "base_uri": "https://localhost:8080/"
        }
      },
      "id": "fWEtb5Ubn26-",
      "execution_count": 17,
      "outputs": [
        {
          "output_type": "execute_result",
          "data": {
            "text/plain": [
              "[1, 1, 1, 1]"
            ]
          },
          "metadata": {},
          "execution_count": 17
        }
      ]
    },
    {
      "cell_type": "code",
      "source": [
        "X_train.shape"
      ],
      "metadata": {
        "colab": {
          "base_uri": "https://localhost:8080/"
        },
        "id": "a4juMlBuO6cp",
        "outputId": "9c77fa9b-5997-44e8-9af1-267d285f7394"
      },
      "id": "a4juMlBuO6cp",
      "execution_count": 3,
      "outputs": [
        {
          "output_type": "execute_result",
          "data": {
            "text/plain": [
              "(40000, 32, 32, 3)"
            ]
          },
          "metadata": {},
          "execution_count": 3
        }
      ]
    },
    {
      "cell_type": "code",
      "source": [
        "class_names = [\"airplane\", \"automobile\", \"bird\", \"cat\", \"deer\", \"dog\", \"frog\", \"horse\", \"ship\", \"truck\"]\n",
        "class_names[int(y_train[5])]\n"
      ],
      "metadata": {
        "colab": {
          "base_uri": "https://localhost:8080/",
          "height": 89
        },
        "id": "GhPGKeDgPAsL",
        "outputId": "7a6ad1b0-ce96-40dd-9149-304ff06e674d"
      },
      "id": "GhPGKeDgPAsL",
      "execution_count": 16,
      "outputs": [
        {
          "output_type": "stream",
          "name": "stderr",
          "text": [
            "<ipython-input-16-f94cb98b12e9>:2: DeprecationWarning: Conversion of an array with ndim > 0 to a scalar is deprecated, and will error in future. Ensure you extract a single element from your array before performing this operation. (Deprecated NumPy 1.25.)\n",
            "  class_names[int(y_train[5])]\n"
          ]
        },
        {
          "output_type": "execute_result",
          "data": {
            "text/plain": [
              "'automobile'"
            ],
            "application/vnd.google.colaboratory.intrinsic+json": {
              "type": "string"
            }
          },
          "metadata": {},
          "execution_count": 16
        }
      ]
    },
    {
      "cell_type": "code",
      "source": [
        "tf.random.set_seed(42)\n",
        "model = tf.keras.Sequential([\n",
        "    tf.keras.layers.Flatten(input_shape = [32, 32, 3]),\n",
        "    tf.keras.layers.Dense(300, activation = \"relu\"),\n",
        "    tf.keras.layers.Dense(100, activation = \"relu\"),\n",
        "    tf.keras.layers.Dense(10, activation = \"softmax\")\n",
        "])\n",
        "model.summary()"
      ],
      "metadata": {
        "colab": {
          "base_uri": "https://localhost:8080/"
        },
        "id": "R_rQwpRPPzS-",
        "outputId": "4015b683-7d99-46dc-8491-f7ba0a220863"
      },
      "id": "R_rQwpRPPzS-",
      "execution_count": null,
      "outputs": [
        {
          "output_type": "stream",
          "name": "stdout",
          "text": [
            "Model: \"sequential_1\"\n",
            "_________________________________________________________________\n",
            " Layer (type)                Output Shape              Param #   \n",
            "=================================================================\n",
            " flatten_1 (Flatten)         (None, 3072)              0         \n",
            "                                                                 \n",
            " dense_3 (Dense)             (None, 300)               921900    \n",
            "                                                                 \n",
            " dense_4 (Dense)             (None, 100)               30100     \n",
            "                                                                 \n",
            " dense_5 (Dense)             (None, 10)                1010      \n",
            "                                                                 \n",
            "=================================================================\n",
            "Total params: 953010 (3.64 MB)\n",
            "Trainable params: 953010 (3.64 MB)\n",
            "Non-trainable params: 0 (0.00 Byte)\n",
            "_________________________________________________________________\n"
          ]
        }
      ]
    },
    {
      "cell_type": "code",
      "source": [
        "model.compile(loss = \"sparse_categorical_crossentropy\",\n",
        "              optimizer = \"sgd\",\n",
        "              metrics = \"accuracy\")"
      ],
      "metadata": {
        "id": "94Y-bZn1QsSU"
      },
      "id": "94Y-bZn1QsSU",
      "execution_count": null,
      "outputs": []
    },
    {
      "cell_type": "code",
      "source": [
        "classifier = model.fit(X_train, y_train, epochs = 30, validation_data = (X_valid, y_valid))"
      ],
      "metadata": {
        "colab": {
          "base_uri": "https://localhost:8080/"
        },
        "id": "vgLgmw-pRaPl",
        "outputId": "6c23a29f-1756-46b4-9a2c-2c46b0bb669f"
      },
      "id": "vgLgmw-pRaPl",
      "execution_count": null,
      "outputs": [
        {
          "output_type": "stream",
          "name": "stdout",
          "text": [
            "Epoch 1/30\n",
            "1250/1250 [==============================] - 5s 3ms/step - loss: 4929018368.0000 - accuracy: 0.0965 - val_loss: 2.3084 - val_accuracy: 0.0952\n",
            "Epoch 2/30\n",
            "1250/1250 [==============================] - 4s 3ms/step - loss: 2.3027 - accuracy: 0.1009 - val_loss: 2.3084 - val_accuracy: 0.0952\n",
            "Epoch 3/30\n",
            "1250/1250 [==============================] - 5s 4ms/step - loss: 2.3027 - accuracy: 0.1005 - val_loss: 2.3084 - val_accuracy: 0.0977\n",
            "Epoch 4/30\n",
            "1250/1250 [==============================] - 4s 3ms/step - loss: 2.3027 - accuracy: 0.0996 - val_loss: 2.3084 - val_accuracy: 0.0952\n",
            "Epoch 5/30\n",
            "1250/1250 [==============================] - 4s 3ms/step - loss: 2.3027 - accuracy: 0.0996 - val_loss: 2.3084 - val_accuracy: 0.0977\n",
            "Epoch 6/30\n",
            "1250/1250 [==============================] - 5s 4ms/step - loss: 2.3027 - accuracy: 0.0972 - val_loss: 2.3084 - val_accuracy: 0.0952\n",
            "Epoch 7/30\n",
            "1250/1250 [==============================] - 4s 3ms/step - loss: 2.3027 - accuracy: 0.1009 - val_loss: 2.3084 - val_accuracy: 0.0952\n",
            "Epoch 8/30\n",
            "1250/1250 [==============================] - 4s 3ms/step - loss: 2.3027 - accuracy: 0.0998 - val_loss: 2.3085 - val_accuracy: 0.0952\n",
            "Epoch 9/30\n",
            "1250/1250 [==============================] - 5s 4ms/step - loss: 2.3027 - accuracy: 0.0985 - val_loss: 2.3084 - val_accuracy: 0.0952\n",
            "Epoch 10/30\n",
            "1250/1250 [==============================] - 5s 4ms/step - loss: 2.3027 - accuracy: 0.0988 - val_loss: 2.3085 - val_accuracy: 0.0952\n",
            "Epoch 11/30\n",
            "1250/1250 [==============================] - 5s 4ms/step - loss: 2.3027 - accuracy: 0.1006 - val_loss: 2.3084 - val_accuracy: 0.0952\n",
            "Epoch 12/30\n",
            "1250/1250 [==============================] - 4s 4ms/step - loss: 2.3027 - accuracy: 0.0984 - val_loss: 2.3084 - val_accuracy: 0.0952\n",
            "Epoch 13/30\n",
            "1250/1250 [==============================] - 4s 3ms/step - loss: 2.3027 - accuracy: 0.1003 - val_loss: 2.3085 - val_accuracy: 0.0952\n",
            "Epoch 14/30\n",
            "1250/1250 [==============================] - 4s 4ms/step - loss: 2.3027 - accuracy: 0.0997 - val_loss: 2.3084 - val_accuracy: 0.0952\n",
            "Epoch 15/30\n",
            "1250/1250 [==============================] - 5s 4ms/step - loss: 2.3027 - accuracy: 0.1001 - val_loss: 2.3084 - val_accuracy: 0.0952\n",
            "Epoch 16/30\n",
            "1250/1250 [==============================] - 4s 3ms/step - loss: 2.3027 - accuracy: 0.0992 - val_loss: 2.3084 - val_accuracy: 0.0952\n",
            "Epoch 17/30\n",
            "1250/1250 [==============================] - 4s 4ms/step - loss: 2.3027 - accuracy: 0.0976 - val_loss: 2.3084 - val_accuracy: 0.0952\n",
            "Epoch 18/30\n",
            "1250/1250 [==============================] - 4s 4ms/step - loss: 2.3027 - accuracy: 0.1002 - val_loss: 2.3084 - val_accuracy: 0.0952\n",
            "Epoch 19/30\n",
            "1250/1250 [==============================] - 4s 3ms/step - loss: 2.3027 - accuracy: 0.1000 - val_loss: 2.3084 - val_accuracy: 0.0977\n",
            "Epoch 20/30\n",
            "1250/1250 [==============================] - 4s 4ms/step - loss: 2.3027 - accuracy: 0.0975 - val_loss: 2.3085 - val_accuracy: 0.0952\n",
            "Epoch 21/30\n",
            "1250/1250 [==============================] - 5s 4ms/step - loss: 2.3027 - accuracy: 0.1008 - val_loss: 2.3084 - val_accuracy: 0.0952\n",
            "Epoch 22/30\n",
            "1250/1250 [==============================] - 4s 3ms/step - loss: 2.3027 - accuracy: 0.0999 - val_loss: 2.3084 - val_accuracy: 0.0952\n",
            "Epoch 23/30\n",
            "1250/1250 [==============================] - 5s 4ms/step - loss: 2.3027 - accuracy: 0.0990 - val_loss: 2.3084 - val_accuracy: 0.0952\n",
            "Epoch 24/30\n",
            "1250/1250 [==============================] - 4s 3ms/step - loss: 2.3027 - accuracy: 0.0996 - val_loss: 2.3084 - val_accuracy: 0.0952\n",
            "Epoch 25/30\n",
            "1250/1250 [==============================] - 4s 3ms/step - loss: 2.3027 - accuracy: 0.0980 - val_loss: 2.3085 - val_accuracy: 0.0952\n",
            "Epoch 26/30\n",
            "1250/1250 [==============================] - 5s 4ms/step - loss: 2.3027 - accuracy: 0.0995 - val_loss: 2.3085 - val_accuracy: 0.0952\n",
            "Epoch 27/30\n",
            "1250/1250 [==============================] - 4s 3ms/step - loss: 2.3027 - accuracy: 0.0998 - val_loss: 2.3085 - val_accuracy: 0.0952\n",
            "Epoch 28/30\n",
            "1250/1250 [==============================] - 4s 3ms/step - loss: 2.3027 - accuracy: 0.0998 - val_loss: 2.3085 - val_accuracy: 0.0952\n",
            "Epoch 29/30\n",
            "1250/1250 [==============================] - 6s 4ms/step - loss: 2.3027 - accuracy: 0.1002 - val_loss: 2.3084 - val_accuracy: 0.0952\n",
            "Epoch 30/30\n",
            "1250/1250 [==============================] - 4s 3ms/step - loss: 2.3027 - accuracy: 0.0997 - val_loss: 2.3084 - val_accuracy: 0.0952\n"
          ]
        }
      ]
    },
    {
      "cell_type": "code",
      "source": [],
      "metadata": {
        "id": "r6vmjLI_SQdF"
      },
      "id": "r6vmjLI_SQdF",
      "execution_count": null,
      "outputs": []
    }
  ],
  "metadata": {
    "kernelspec": {
      "display_name": "Python 3.10 (tensorflow)",
      "language": "python",
      "name": "tensorflow"
    },
    "language_info": {
      "codemirror_mode": {
        "name": "ipython",
        "version": 3
      },
      "file_extension": ".py",
      "mimetype": "text/x-python",
      "name": "python",
      "nbconvert_exporter": "python",
      "pygments_lexer": "ipython3",
      "version": "3.10.10"
    },
    "colab": {
      "provenance": [],
      "gpuType": "T4"
    },
    "accelerator": "GPU"
  },
  "nbformat": 4,
  "nbformat_minor": 5
}