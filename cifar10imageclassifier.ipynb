{
  "cells": [
    {
      "cell_type": "code",
      "execution_count": 2,
      "id": "0088e301-b45b-4cff-bcb9-9552e3b8fe30",
      "metadata": {
        "id": "0088e301-b45b-4cff-bcb9-9552e3b8fe30"
      },
      "outputs": [],
      "source": [
        "#!pip install --upgrade keras-cv tensorflow\n",
        "#!pip install --upgrade keras\n",
        "import tensorflow as tf\n",
        "from matplotlib import pyplot as plt\n",
        "%matplotlib inline\n",
        "import numpy as np\n",
        "import keras\n",
        "import datetime\n",
        "%load_ext tensorboard\n",
        "import keras_tuner as kt\n"
      ]
    },
    {
      "cell_type": "code",
      "source": [
        "\"\"\"from google.colab import drive\n",
        "drive.mount('/content/gdrive')\"\"\""
      ],
      "metadata": {
        "colab": {
          "base_uri": "https://localhost:8080/"
        },
        "id": "XDl_ADMZ2epx",
        "outputId": "0d19f454-05c8-4cec-d831-bb1b5f579fc7"
      },
      "id": "XDl_ADMZ2epx",
      "execution_count": 13,
      "outputs": [
        {
          "output_type": "stream",
          "name": "stdout",
          "text": [
            "Mounted at /content/gdrive\n"
          ]
        }
      ]
    },
    {
      "cell_type": "code",
      "source": [
        "cifar10 = tf.keras.datasets.cifar10.load_data()\n",
        "(X_train_full, y_train_full), (X_test, y_test) = cifar10\n"
      ],
      "metadata": {
        "id": "9f97cZgJOE1l",
        "colab": {
          "base_uri": "https://localhost:8080/"
        },
        "outputId": "6921c894-5ed1-49a4-c7f5-7e7525665ab3"
      },
      "id": "9f97cZgJOE1l",
      "execution_count": 3,
      "outputs": [
        {
          "output_type": "stream",
          "name": "stdout",
          "text": [
            "Downloading data from https://www.cs.toronto.edu/~kriz/cifar-10-python.tar.gz\n",
            "170498071/170498071 [==============================] - 5s 0us/step\n"
          ]
        }
      ]
    },
    {
      "cell_type": "code",
      "source": [
        "X_train_full = tf.image.rgb_to_grayscale(X_train_full)\n",
        "X_test = tf.image.rgb_to_grayscale(X_test)"
      ],
      "metadata": {
        "id": "8dfrk5wn7nui"
      },
      "id": "8dfrk5wn7nui",
      "execution_count": 4,
      "outputs": []
    },
    {
      "cell_type": "code",
      "source": [
        "X_train_full.shape"
      ],
      "metadata": {
        "id": "LXGo0Eu2uI1Q",
        "outputId": "be6cd76b-00e2-416f-fc72-07590f44958f",
        "colab": {
          "base_uri": "https://localhost:8080/"
        }
      },
      "id": "LXGo0Eu2uI1Q",
      "execution_count": 5,
      "outputs": [
        {
          "output_type": "execute_result",
          "data": {
            "text/plain": [
              "TensorShape([50000, 32, 32, 1])"
            ]
          },
          "metadata": {},
          "execution_count": 5
        }
      ]
    },
    {
      "cell_type": "code",
      "source": [
        "\"\"\"to_grayscale = keras.layers.preprocessing.Grayscale()\n",
        "X_train_full = to_grayscale(X_train_full)\n",
        "X_test = to_grayscale(X_test)\"\"\""
      ],
      "metadata": {
        "id": "KCil1i1XlVPo",
        "outputId": "e9e0b232-6dda-47f6-ef3c-f9d0519bc338",
        "colab": {
          "base_uri": "https://localhost:8080/",
          "height": 52
        }
      },
      "id": "KCil1i1XlVPo",
      "execution_count": null,
      "outputs": [
        {
          "output_type": "execute_result",
          "data": {
            "text/plain": [
              "'to_grayscale = keras.layers.preprocessing.Grayscale()\\nX_train_full = to_grayscale(X_train_full)\\nX_test = to_grayscale(X_test)'"
            ],
            "application/vnd.google.colaboratory.intrinsic+json": {
              "type": "string"
            }
          },
          "metadata": {},
          "execution_count": 36
        }
      ]
    },
    {
      "cell_type": "code",
      "source": [
        "X_train, y_train = X_train_full[:-10000], y_train_full[:-10000]\n",
        "X_valid, y_valid = X_train_full[-10000:], y_train_full[-10000:]"
      ],
      "metadata": {
        "id": "3UObF7b7nm-e"
      },
      "id": "3UObF7b7nm-e",
      "execution_count": 6,
      "outputs": []
    },
    {
      "cell_type": "code",
      "source": [
        "print(X_train[1][0][1])"
      ],
      "metadata": {
        "id": "RGxsiGCcpZa2",
        "outputId": "62d62dea-948c-47d6-e751-a72f61e5c1fa",
        "colab": {
          "base_uri": "https://localhost:8080/"
        }
      },
      "id": "RGxsiGCcpZa2",
      "execution_count": 7,
      "outputs": [
        {
          "output_type": "stream",
          "name": "stdout",
          "text": [
            "tf.Tensor([133], shape=(1,), dtype=uint8)\n"
          ]
        }
      ]
    },
    {
      "cell_type": "code",
      "source": [
        "class_names = [\"airplane\", \"automobile\", \"bird\", \"cat\", \"deer\", \"dog\", \"frog\", \"horse\", \"ship\", \"truck\"]\n",
        "class_names[int(y_train[5])]\n"
      ],
      "metadata": {
        "colab": {
          "base_uri": "https://localhost:8080/",
          "height": 89
        },
        "id": "GhPGKeDgPAsL",
        "outputId": "d9226de3-bf2e-41d3-c680-5135fd2dc663"
      },
      "id": "GhPGKeDgPAsL",
      "execution_count": 8,
      "outputs": [
        {
          "output_type": "stream",
          "name": "stderr",
          "text": [
            "<ipython-input-8-f94cb98b12e9>:2: DeprecationWarning: Conversion of an array with ndim > 0 to a scalar is deprecated, and will error in future. Ensure you extract a single element from your array before performing this operation. (Deprecated NumPy 1.25.)\n",
            "  class_names[int(y_train[5])]\n"
          ]
        },
        {
          "output_type": "execute_result",
          "data": {
            "text/plain": [
              "'automobile'"
            ],
            "application/vnd.google.colaboratory.intrinsic+json": {
              "type": "string"
            }
          },
          "metadata": {},
          "execution_count": 8
        }
      ]
    },
    {
      "cell_type": "code",
      "source": [
        "\n",
        "\n",
        "\n",
        "model = tf.keras.Sequential([\n",
        "    tf.keras.layers.Flatten(input_shape = [32, 32, 1]),\n",
        "    tf.keras.layers.Dense(800, kernel_initializer = 'random_normal',bias_initializer = 'zeros' ,activation = \"relu\"),\n",
        "    tf.keras.layers.Dense(700, kernel_initializer = 'random_normal',bias_initializer = 'zeros', activation = \"relu\"),\n",
        "    tf.keras.layers.Dense(600, kernel_initializer = 'random_normal',bias_initializer = 'zeros', activation = \"relu\"),\n",
        "    tf.keras.layers.Dense(600, kernel_initializer = 'random_normal',bias_initializer = 'zeros', activation = \"relu\"),\n",
        "    tf.keras.layers.Dense(600, kernel_initializer = 'random_normal',bias_initializer = 'zeros', activation = \"relu\"),\n",
        "    tf.keras.layers.Dense(400, kernel_initializer = 'random_normal',bias_initializer = 'zeros', activation = \"relu\"),\n",
        "    tf.keras.layers.Dense(10, activation = \"softmax\")\n",
        "])\n",
        "model.summary()"
      ],
      "metadata": {
        "colab": {
          "base_uri": "https://localhost:8080/"
        },
        "id": "R_rQwpRPPzS-",
        "outputId": "c5de1162-e1e4-46de-da9c-f1a52f2770ce"
      },
      "id": "R_rQwpRPPzS-",
      "execution_count": 9,
      "outputs": [
        {
          "output_type": "stream",
          "name": "stdout",
          "text": [
            "Model: \"sequential\"\n",
            "_________________________________________________________________\n",
            " Layer (type)                Output Shape              Param #   \n",
            "=================================================================\n",
            " flatten (Flatten)           (None, 1024)              0         \n",
            "                                                                 \n",
            " dense (Dense)               (None, 800)               820000    \n",
            "                                                                 \n",
            " dense_1 (Dense)             (None, 700)               560700    \n",
            "                                                                 \n",
            " dense_2 (Dense)             (None, 600)               420600    \n",
            "                                                                 \n",
            " dense_3 (Dense)             (None, 600)               360600    \n",
            "                                                                 \n",
            " dense_4 (Dense)             (None, 600)               360600    \n",
            "                                                                 \n",
            " dense_5 (Dense)             (None, 400)               240400    \n",
            "                                                                 \n",
            " dense_6 (Dense)             (None, 10)                4010      \n",
            "                                                                 \n",
            "=================================================================\n",
            "Total params: 2766910 (10.55 MB)\n",
            "Trainable params: 2766910 (10.55 MB)\n",
            "Non-trainable params: 0 (0.00 Byte)\n",
            "_________________________________________________________________\n"
          ]
        }
      ]
    },
    {
      "cell_type": "code",
      "source": [
        "model.compile(loss = \"sparse_categorical_crossentropy\",\n",
        "              optimizer = \"sgd\",\n",
        "              metrics = \"accuracy\")"
      ],
      "metadata": {
        "id": "94Y-bZn1QsSU"
      },
      "id": "94Y-bZn1QsSU",
      "execution_count": 10,
      "outputs": []
    },
    {
      "cell_type": "code",
      "source": [
        "log_dir = \"logs/fit/\" + datetime.datetime.now().strftime(\"%Y%m%d-%H%M%S\")\n",
        "tensorboard_callback = tf.keras.callbacks.TensorBoard(log_dir=log_dir, histogram_freq=1)\n",
        "checkpoints = tf.keras.callbacks.ModelCheckpoint('./checkpoint.model.keras')\n",
        "history = model.fit(X_train, y_train, epochs = 50, validation_data = (X_valid, y_valid), callbacks=[tensorboard_callback, checkpoints])"
      ],
      "metadata": {
        "colab": {
          "base_uri": "https://localhost:8080/"
        },
        "id": "vgLgmw-pRaPl",
        "outputId": "d562c328-63ba-41ec-df8a-4f7a6f5923a7"
      },
      "id": "vgLgmw-pRaPl",
      "execution_count": 11,
      "outputs": [
        {
          "output_type": "stream",
          "name": "stdout",
          "text": [
            "Epoch 1/50\n",
            "1250/1250 [==============================] - 9s 6ms/step - loss: nan - accuracy: 0.0995 - val_loss: nan - val_accuracy: 0.1014\n",
            "Epoch 2/50\n",
            "1250/1250 [==============================] - 6s 5ms/step - loss: nan - accuracy: 0.0997 - val_loss: nan - val_accuracy: 0.1014\n",
            "Epoch 3/50\n",
            "1250/1250 [==============================] - 7s 5ms/step - loss: nan - accuracy: 0.0997 - val_loss: nan - val_accuracy: 0.1014\n",
            "Epoch 4/50\n",
            "1250/1250 [==============================] - 6s 5ms/step - loss: nan - accuracy: 0.0997 - val_loss: nan - val_accuracy: 0.1014\n",
            "Epoch 5/50\n",
            "1250/1250 [==============================] - 7s 6ms/step - loss: nan - accuracy: 0.0997 - val_loss: nan - val_accuracy: 0.1014\n",
            "Epoch 6/50\n",
            "1250/1250 [==============================] - 7s 6ms/step - loss: nan - accuracy: 0.0997 - val_loss: nan - val_accuracy: 0.1014\n",
            "Epoch 7/50\n",
            "1250/1250 [==============================] - 6s 5ms/step - loss: nan - accuracy: 0.0997 - val_loss: nan - val_accuracy: 0.1014\n",
            "Epoch 8/50\n",
            "1250/1250 [==============================] - 7s 5ms/step - loss: nan - accuracy: 0.0997 - val_loss: nan - val_accuracy: 0.1014\n",
            "Epoch 9/50\n",
            "1250/1250 [==============================] - 6s 5ms/step - loss: nan - accuracy: 0.0997 - val_loss: nan - val_accuracy: 0.1014\n",
            "Epoch 10/50\n",
            "1250/1250 [==============================] - 6s 5ms/step - loss: nan - accuracy: 0.0997 - val_loss: nan - val_accuracy: 0.1014\n",
            "Epoch 11/50\n",
            "1250/1250 [==============================] - 6s 5ms/step - loss: nan - accuracy: 0.0997 - val_loss: nan - val_accuracy: 0.1014\n",
            "Epoch 12/50\n",
            "1250/1250 [==============================] - 7s 5ms/step - loss: nan - accuracy: 0.0997 - val_loss: nan - val_accuracy: 0.1014\n",
            "Epoch 13/50\n",
            "1250/1250 [==============================] - 6s 5ms/step - loss: nan - accuracy: 0.0997 - val_loss: nan - val_accuracy: 0.1014\n",
            "Epoch 14/50\n",
            "1250/1250 [==============================] - 7s 5ms/step - loss: nan - accuracy: 0.0997 - val_loss: nan - val_accuracy: 0.1014\n",
            "Epoch 15/50\n",
            "1250/1250 [==============================] - 7s 6ms/step - loss: nan - accuracy: 0.0997 - val_loss: nan - val_accuracy: 0.1014\n",
            "Epoch 16/50\n",
            "1250/1250 [==============================] - 7s 5ms/step - loss: nan - accuracy: 0.0997 - val_loss: nan - val_accuracy: 0.1014\n",
            "Epoch 17/50\n",
            "1250/1250 [==============================] - 6s 5ms/step - loss: nan - accuracy: 0.0997 - val_loss: nan - val_accuracy: 0.1014\n",
            "Epoch 18/50\n",
            "1250/1250 [==============================] - 7s 6ms/step - loss: nan - accuracy: 0.0997 - val_loss: nan - val_accuracy: 0.1014\n",
            "Epoch 19/50\n",
            "1250/1250 [==============================] - 6s 5ms/step - loss: nan - accuracy: 0.0997 - val_loss: nan - val_accuracy: 0.1014\n",
            "Epoch 20/50\n",
            "1250/1250 [==============================] - 7s 5ms/step - loss: nan - accuracy: 0.0997 - val_loss: nan - val_accuracy: 0.1014\n",
            "Epoch 21/50\n",
            "1250/1250 [==============================] - 9s 7ms/step - loss: nan - accuracy: 0.0997 - val_loss: nan - val_accuracy: 0.1014\n",
            "Epoch 22/50\n",
            "1250/1250 [==============================] - 7s 6ms/step - loss: nan - accuracy: 0.0997 - val_loss: nan - val_accuracy: 0.1014\n",
            "Epoch 23/50\n",
            "1250/1250 [==============================] - 6s 5ms/step - loss: nan - accuracy: 0.0997 - val_loss: nan - val_accuracy: 0.1014\n",
            "Epoch 24/50\n",
            "1250/1250 [==============================] - 7s 5ms/step - loss: nan - accuracy: 0.0997 - val_loss: nan - val_accuracy: 0.1014\n",
            "Epoch 25/50\n",
            "1250/1250 [==============================] - 7s 6ms/step - loss: nan - accuracy: 0.0997 - val_loss: nan - val_accuracy: 0.1014\n",
            "Epoch 26/50\n",
            "1250/1250 [==============================] - 6s 5ms/step - loss: nan - accuracy: 0.0997 - val_loss: nan - val_accuracy: 0.1014\n",
            "Epoch 27/50\n",
            "1250/1250 [==============================] - 6s 5ms/step - loss: nan - accuracy: 0.0997 - val_loss: nan - val_accuracy: 0.1014\n",
            "Epoch 28/50\n",
            "1250/1250 [==============================] - 7s 5ms/step - loss: nan - accuracy: 0.0997 - val_loss: nan - val_accuracy: 0.1014\n",
            "Epoch 29/50\n",
            "1250/1250 [==============================] - 6s 5ms/step - loss: nan - accuracy: 0.0997 - val_loss: nan - val_accuracy: 0.1014\n",
            "Epoch 30/50\n",
            "1250/1250 [==============================] - 7s 5ms/step - loss: nan - accuracy: 0.0997 - val_loss: nan - val_accuracy: 0.1014\n",
            "Epoch 31/50\n",
            "1250/1250 [==============================] - 7s 5ms/step - loss: nan - accuracy: 0.0997 - val_loss: nan - val_accuracy: 0.1014\n",
            "Epoch 32/50\n",
            "1250/1250 [==============================] - 7s 5ms/step - loss: nan - accuracy: 0.0997 - val_loss: nan - val_accuracy: 0.1014\n",
            "Epoch 33/50\n",
            "1250/1250 [==============================] - 6s 5ms/step - loss: nan - accuracy: 0.0997 - val_loss: nan - val_accuracy: 0.1014\n",
            "Epoch 34/50\n",
            "1250/1250 [==============================] - 7s 5ms/step - loss: nan - accuracy: 0.0997 - val_loss: nan - val_accuracy: 0.1014\n",
            "Epoch 35/50\n",
            "1250/1250 [==============================] - 6s 5ms/step - loss: nan - accuracy: 0.0997 - val_loss: nan - val_accuracy: 0.1014\n",
            "Epoch 36/50\n",
            "1250/1250 [==============================] - 7s 5ms/step - loss: nan - accuracy: 0.0997 - val_loss: nan - val_accuracy: 0.1014\n",
            "Epoch 37/50\n",
            "1250/1250 [==============================] - 6s 5ms/step - loss: nan - accuracy: 0.0997 - val_loss: nan - val_accuracy: 0.1014\n",
            "Epoch 38/50\n",
            "1250/1250 [==============================] - 7s 5ms/step - loss: nan - accuracy: 0.0997 - val_loss: nan - val_accuracy: 0.1014\n",
            "Epoch 39/50\n",
            "1250/1250 [==============================] - 6s 5ms/step - loss: nan - accuracy: 0.0997 - val_loss: nan - val_accuracy: 0.1014\n",
            "Epoch 40/50\n",
            "1250/1250 [==============================] - 8s 6ms/step - loss: nan - accuracy: 0.0997 - val_loss: nan - val_accuracy: 0.1014\n",
            "Epoch 41/50\n",
            "1250/1250 [==============================] - 6s 5ms/step - loss: nan - accuracy: 0.0997 - val_loss: nan - val_accuracy: 0.1014\n",
            "Epoch 42/50\n",
            "1250/1250 [==============================] - 7s 5ms/step - loss: nan - accuracy: 0.0997 - val_loss: nan - val_accuracy: 0.1014\n",
            "Epoch 43/50\n",
            "1250/1250 [==============================] - 6s 5ms/step - loss: nan - accuracy: 0.0997 - val_loss: nan - val_accuracy: 0.1014\n",
            "Epoch 44/50\n",
            "1250/1250 [==============================] - 7s 5ms/step - loss: nan - accuracy: 0.0997 - val_loss: nan - val_accuracy: 0.1014\n",
            "Epoch 45/50\n",
            "1250/1250 [==============================] - 6s 5ms/step - loss: nan - accuracy: 0.0997 - val_loss: nan - val_accuracy: 0.1014\n",
            "Epoch 46/50\n",
            "1250/1250 [==============================] - 7s 5ms/step - loss: nan - accuracy: 0.0997 - val_loss: nan - val_accuracy: 0.1014\n",
            "Epoch 47/50\n",
            "1250/1250 [==============================] - 6s 5ms/step - loss: nan - accuracy: 0.0997 - val_loss: nan - val_accuracy: 0.1014\n",
            "Epoch 48/50\n",
            "1250/1250 [==============================] - 7s 5ms/step - loss: nan - accuracy: 0.0997 - val_loss: nan - val_accuracy: 0.1014\n",
            "Epoch 49/50\n",
            "1250/1250 [==============================] - 7s 5ms/step - loss: nan - accuracy: 0.0997 - val_loss: nan - val_accuracy: 0.1014\n",
            "Epoch 50/50\n",
            "1250/1250 [==============================] - 7s 5ms/step - loss: nan - accuracy: 0.0997 - val_loss: nan - val_accuracy: 0.1014\n"
          ]
        }
      ]
    },
    {
      "cell_type": "code",
      "source": [
        "weights = model.get_layer(\"dense_1\").get_weights()"
      ],
      "metadata": {
        "id": "r6vmjLI_SQdF"
      },
      "id": "r6vmjLI_SQdF",
      "execution_count": 25,
      "outputs": []
    },
    {
      "cell_type": "code",
      "source": [
        "weights[1].shape"
      ],
      "metadata": {
        "id": "nvP46BvXs2oo",
        "outputId": "7b7fef0f-17ae-4bc7-d805-83caaf155be2",
        "colab": {
          "base_uri": "https://localhost:8080/"
        }
      },
      "id": "nvP46BvXs2oo",
      "execution_count": 26,
      "outputs": [
        {
          "output_type": "execute_result",
          "data": {
            "text/plain": [
              "(100,)"
            ]
          },
          "metadata": {},
          "execution_count": 26
        }
      ]
    },
    {
      "cell_type": "code",
      "source": [
        "# Load the TensorBoard notebook extension\n"
      ],
      "metadata": {
        "id": "iPQQ8w6-3qnK"
      },
      "id": "iPQQ8w6-3qnK",
      "execution_count": null,
      "outputs": []
    },
    {
      "cell_type": "code",
      "source": [
        "def build_model(hp):\n",
        "  n_hidden = hp.Int(\"n_hidden\", min_value = 0, max_value = 10, default = 2)\n",
        "  n_neurons = hp.Int(\"n_neurons\", min_value = 10, max_value = 500, default = 3)\n",
        "  learning_rate = hp.Float(\"learning_rate\", min_value = 1e-4, max_value = 1e-2, sampling = \"log\")\n",
        "  optimizer = hp.Choice(\"optimizer\", values = [\"sgd\", \"adam\"])\n",
        "  if optimizer == \"sgd\":\n",
        "    optimizer = tf.keras.optimizers.SGD(learning_rate = learning_rate)\n",
        "  else:\n",
        "    optimizer = tf.keras.optimizers.Adam(learning_rate = learning_rate)\n",
        "  model = tf.keras.Sequential()\n",
        "  model.add(tf.keras.layers.Flatten(input_shape = [32,32,1]))\n",
        "  for i in range(n_hidden):\n",
        "    model.add(tf.keras.layers.Dense(n_neurons, activation = \"relu\"))\n",
        "  model.add(tf.keras.layers.Dense(10, activation = \"softmax\"))\n",
        "  model.compile(loss = \"sparse_categorical_crossentropy\", optimizer = optimizer, metrics = [\"accuracy\"])\n",
        "  return model\n",
        "\n"
      ],
      "metadata": {
        "id": "QLr5Fcqy4tX1"
      },
      "id": "QLr5Fcqy4tX1",
      "execution_count": 16,
      "outputs": []
    },
    {
      "cell_type": "code",
      "source": [
        "random_search_tuner = kt.RandomSearch(build_model,\n",
        "                                  objective = \"accuracy\",\n",
        "                                  max_trials = 100,\n",
        "                                  seed = 42,\n",
        "                                  directory = \"cifarproject\",\n",
        "                                  project_name = \"random_search_runs\")\n",
        "random_search_tuner.search(X_train, y_train, epochs = 5, validation_data = (X_valid, y_valid))"
      ],
      "metadata": {
        "id": "hHVXI4rX40eE",
        "colab": {
          "base_uri": "https://localhost:8080/"
        },
        "outputId": "455f67ff-6d3c-4ce5-8fdf-47e69bf2895e"
      },
      "id": "hHVXI4rX40eE",
      "execution_count": null,
      "outputs": [
        {
          "output_type": "stream",
          "name": "stdout",
          "text": [
            "Trial 1 Complete [00h 00m 42s]\n",
            "accuracy: 0.23372499644756317\n",
            "\n",
            "Best accuracy So Far: 0.23372499644756317\n",
            "Total elapsed time: 00h 00m 42s\n",
            "\n",
            "Search: Running Trial #2\n",
            "\n",
            "Value             |Best Value So Far |Hyperparameter\n",
            "9                 |7                 |n_hidden\n",
            "182               |28                |n_neurons\n",
            "0.0012483         |0.00065625        |learning_rate\n",
            "sgd               |sgd               |optimizer\n",
            "\n",
            "Epoch 1/5\n",
            "1250/1250 [==============================] - 8s 5ms/step - loss: 2.1495 - accuracy: 0.2291 - val_loss: 2.0347 - val_accuracy: 0.2547\n",
            "Epoch 2/5\n",
            " 969/1250 [======================>.......] - ETA: 1s - loss: 1.9928 - accuracy: 0.2793"
          ]
        }
      ]
    },
    {
      "cell_type": "code",
      "source": [
        "!rm -rf cifarproject/"
      ],
      "metadata": {
        "id": "RctLIaj2BwYR"
      },
      "id": "RctLIaj2BwYR",
      "execution_count": 22,
      "outputs": []
    },
    {
      "cell_type": "code",
      "source": [],
      "metadata": {
        "id": "cjMrZObDipzu"
      },
      "id": "cjMrZObDipzu",
      "execution_count": null,
      "outputs": []
    }
  ],
  "metadata": {
    "kernelspec": {
      "display_name": "Python 3.10 (tensorflow)",
      "language": "python",
      "name": "tensorflow"
    },
    "language_info": {
      "codemirror_mode": {
        "name": "ipython",
        "version": 3
      },
      "file_extension": ".py",
      "mimetype": "text/x-python",
      "name": "python",
      "nbconvert_exporter": "python",
      "pygments_lexer": "ipython3",
      "version": "3.10.10"
    },
    "colab": {
      "provenance": [],
      "gpuType": "T4"
    },
    "accelerator": "GPU"
  },
  "nbformat": 4,
  "nbformat_minor": 5
}