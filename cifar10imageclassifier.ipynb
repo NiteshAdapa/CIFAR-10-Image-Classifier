{
  "cells": [
    {
      "cell_type": "code",
      "execution_count": 1,
      "id": "0088e301-b45b-4cff-bcb9-9552e3b8fe30",
      "metadata": {
        "id": "0088e301-b45b-4cff-bcb9-9552e3b8fe30",
        "outputId": "5e778db5-6cc6-49f9-9274-41ed55233da9",
        "colab": {
          "base_uri": "https://localhost:8080/"
        }
      },
      "outputs": [
        {
          "output_type": "stream",
          "name": "stdout",
          "text": [
            "Collecting keras_tuner\n",
            "  Downloading keras_tuner-1.4.7-py3-none-any.whl (129 kB)\n",
            "\u001b[2K     \u001b[90m━━━━━━━━━━━━━━━━━━━━━━━━━━━━━━━━━━━━━━━━\u001b[0m \u001b[32m129.1/129.1 kB\u001b[0m \u001b[31m2.6 MB/s\u001b[0m eta \u001b[36m0:00:00\u001b[0m\n",
            "\u001b[?25hRequirement already satisfied: keras in /usr/local/lib/python3.10/dist-packages (from keras_tuner) (2.15.0)\n",
            "Requirement already satisfied: packaging in /usr/local/lib/python3.10/dist-packages (from keras_tuner) (24.1)\n",
            "Requirement already satisfied: requests in /usr/local/lib/python3.10/dist-packages (from keras_tuner) (2.31.0)\n",
            "Collecting kt-legacy (from keras_tuner)\n",
            "  Downloading kt_legacy-1.0.5-py3-none-any.whl (9.6 kB)\n",
            "Requirement already satisfied: charset-normalizer<4,>=2 in /usr/local/lib/python3.10/dist-packages (from requests->keras_tuner) (3.3.2)\n",
            "Requirement already satisfied: idna<4,>=2.5 in /usr/local/lib/python3.10/dist-packages (from requests->keras_tuner) (3.7)\n",
            "Requirement already satisfied: urllib3<3,>=1.21.1 in /usr/local/lib/python3.10/dist-packages (from requests->keras_tuner) (2.0.7)\n",
            "Requirement already satisfied: certifi>=2017.4.17 in /usr/local/lib/python3.10/dist-packages (from requests->keras_tuner) (2024.6.2)\n",
            "Installing collected packages: kt-legacy, keras_tuner\n",
            "Successfully installed keras_tuner-1.4.7 kt-legacy-1.0.5\n"
          ]
        }
      ],
      "source": [
        "#!pip install --upgrade keras-cv tensorflow\n",
        "#!pip install --upgrade keras\n",
        "!pip install keras_tuner\n",
        "import tensorflow as tf\n",
        "from matplotlib import pyplot as plt\n",
        "%matplotlib inline\n",
        "import numpy as np\n",
        "import keras\n",
        "import datetime\n",
        "%load_ext tensorboard\n",
        "import keras_tuner as kt\n"
      ]
    },
    {
      "cell_type": "code",
      "source": [
        "\"\"\"from google.colab import drive\n",
        "drive.mount('/content/gdrive')\"\"\""
      ],
      "metadata": {
        "colab": {
          "base_uri": "https://localhost:8080/",
          "height": 35
        },
        "id": "XDl_ADMZ2epx",
        "outputId": "84760955-646f-4f90-876f-f5d5e13e0142"
      },
      "id": "XDl_ADMZ2epx",
      "execution_count": null,
      "outputs": [
        {
          "output_type": "execute_result",
          "data": {
            "text/plain": [
              "\"from google.colab import drive\\ndrive.mount('/content/gdrive')\""
            ],
            "application/vnd.google.colaboratory.intrinsic+json": {
              "type": "string"
            }
          },
          "metadata": {},
          "execution_count": 3
        }
      ]
    },
    {
      "cell_type": "code",
      "source": [
        "cifar10 = tf.keras.datasets.cifar10.load_data()\n",
        "(X_train_full, y_train_full), (X_test, y_test) = cifar10\n"
      ],
      "metadata": {
        "id": "9f97cZgJOE1l",
        "colab": {
          "base_uri": "https://localhost:8080/"
        },
        "outputId": "13589a8d-1588-4008-a828-9a01ce4edd47"
      },
      "id": "9f97cZgJOE1l",
      "execution_count": 2,
      "outputs": [
        {
          "output_type": "stream",
          "name": "stdout",
          "text": [
            "Downloading data from https://www.cs.toronto.edu/~kriz/cifar-10-python.tar.gz\n",
            "170498071/170498071 [==============================] - 19s 0us/step\n"
          ]
        }
      ]
    },
    {
      "cell_type": "code",
      "source": [
        "X_train_full = tf.image.rgb_to_grayscale(X_train_full)\n",
        "X_test = tf.image.rgb_to_grayscale(X_test)"
      ],
      "metadata": {
        "id": "8dfrk5wn7nui"
      },
      "id": "8dfrk5wn7nui",
      "execution_count": 3,
      "outputs": []
    },
    {
      "cell_type": "code",
      "source": [
        "X_train_full.shape"
      ],
      "metadata": {
        "id": "LXGo0Eu2uI1Q",
        "outputId": "fb46fdc7-2720-4ecd-fb5c-3eabd732eedd",
        "colab": {
          "base_uri": "https://localhost:8080/"
        }
      },
      "id": "LXGo0Eu2uI1Q",
      "execution_count": 4,
      "outputs": [
        {
          "output_type": "execute_result",
          "data": {
            "text/plain": [
              "TensorShape([50000, 32, 32, 1])"
            ]
          },
          "metadata": {},
          "execution_count": 4
        }
      ]
    },
    {
      "cell_type": "code",
      "source": [
        "\"\"\"to_grayscale = keras.layers.preprocessing.Grayscale()\n",
        "X_train_full = to_grayscale(X_train_full)\n",
        "X_test = to_grayscale(X_test)\"\"\""
      ],
      "metadata": {
        "id": "KCil1i1XlVPo",
        "outputId": "850556f9-0ec6-45f4-9899-18856d129ae6",
        "colab": {
          "base_uri": "https://localhost:8080/",
          "height": 52
        }
      },
      "id": "KCil1i1XlVPo",
      "execution_count": 5,
      "outputs": [
        {
          "output_type": "execute_result",
          "data": {
            "text/plain": [
              "'to_grayscale = keras.layers.preprocessing.Grayscale()\\nX_train_full = to_grayscale(X_train_full)\\nX_test = to_grayscale(X_test)'"
            ],
            "application/vnd.google.colaboratory.intrinsic+json": {
              "type": "string"
            }
          },
          "metadata": {},
          "execution_count": 5
        }
      ]
    },
    {
      "cell_type": "code",
      "source": [
        "X_train, y_train = X_train_full[:-10000], y_train_full[:-10000]\n",
        "X_valid, y_valid = X_train_full[-10000:], y_train_full[-10000:]"
      ],
      "metadata": {
        "id": "3UObF7b7nm-e"
      },
      "id": "3UObF7b7nm-e",
      "execution_count": 6,
      "outputs": []
    },
    {
      "cell_type": "code",
      "source": [
        "print(X_train[1][0][1])"
      ],
      "metadata": {
        "id": "RGxsiGCcpZa2",
        "outputId": "57f9b7d8-ebd2-43d2-bc99-6e691f8223b6",
        "colab": {
          "base_uri": "https://localhost:8080/"
        }
      },
      "id": "RGxsiGCcpZa2",
      "execution_count": 7,
      "outputs": [
        {
          "output_type": "stream",
          "name": "stdout",
          "text": [
            "tf.Tensor([133], shape=(1,), dtype=uint8)\n"
          ]
        }
      ]
    },
    {
      "cell_type": "code",
      "source": [
        "class_names = [\"airplane\", \"automobile\", \"bird\", \"cat\", \"deer\", \"dog\", \"frog\", \"horse\", \"ship\", \"truck\"]\n",
        "class_names[int(y_train[5])]\n"
      ],
      "metadata": {
        "colab": {
          "base_uri": "https://localhost:8080/",
          "height": 89
        },
        "id": "GhPGKeDgPAsL",
        "outputId": "58ce0b61-d57a-4c82-a829-c37cbf044994"
      },
      "id": "GhPGKeDgPAsL",
      "execution_count": 8,
      "outputs": [
        {
          "output_type": "stream",
          "name": "stderr",
          "text": [
            "<ipython-input-8-f94cb98b12e9>:2: DeprecationWarning: Conversion of an array with ndim > 0 to a scalar is deprecated, and will error in future. Ensure you extract a single element from your array before performing this operation. (Deprecated NumPy 1.25.)\n",
            "  class_names[int(y_train[5])]\n"
          ]
        },
        {
          "output_type": "execute_result",
          "data": {
            "text/plain": [
              "'automobile'"
            ],
            "application/vnd.google.colaboratory.intrinsic+json": {
              "type": "string"
            }
          },
          "metadata": {},
          "execution_count": 8
        }
      ]
    },
    {
      "cell_type": "code",
      "source": [
        "\n",
        "\n",
        "\n",
        "model = tf.keras.Sequential([\n",
        "    tf.keras.layers.Flatten(input_shape = [32, 32, 1]),\n",
        "    tf.keras.layers.Dense(800, kernel_initializer = 'random_normal',bias_initializer = 'zeros' ,activation = \"relu\"),\n",
        "    tf.keras.layers.Dense(700, kernel_initializer = 'random_normal',bias_initializer = 'zeros', activation = \"relu\"),\n",
        "    tf.keras.layers.Dense(600, kernel_initializer = 'random_normal',bias_initializer = 'zeros', activation = \"relu\"),\n",
        "    tf.keras.layers.Dense(600, kernel_initializer = 'random_normal',bias_initializer = 'zeros', activation = \"relu\"),\n",
        "    tf.keras.layers.Dense(600, kernel_initializer = 'random_normal',bias_initializer = 'zeros', activation = \"relu\"),\n",
        "    tf.keras.layers.Dense(400, kernel_initializer = 'random_normal',bias_initializer = 'zeros', activation = \"relu\"),\n",
        "    tf.keras.layers.Dense(10, activation = \"softmax\")\n",
        "])\n",
        "model.summary()"
      ],
      "metadata": {
        "colab": {
          "base_uri": "https://localhost:8080/"
        },
        "id": "R_rQwpRPPzS-",
        "outputId": "5c914b97-0193-4576-853e-f2987ed75488"
      },
      "id": "R_rQwpRPPzS-",
      "execution_count": 9,
      "outputs": [
        {
          "output_type": "stream",
          "name": "stdout",
          "text": [
            "Model: \"sequential\"\n",
            "_________________________________________________________________\n",
            " Layer (type)                Output Shape              Param #   \n",
            "=================================================================\n",
            " flatten (Flatten)           (None, 1024)              0         \n",
            "                                                                 \n",
            " dense (Dense)               (None, 800)               820000    \n",
            "                                                                 \n",
            " dense_1 (Dense)             (None, 700)               560700    \n",
            "                                                                 \n",
            " dense_2 (Dense)             (None, 600)               420600    \n",
            "                                                                 \n",
            " dense_3 (Dense)             (None, 600)               360600    \n",
            "                                                                 \n",
            " dense_4 (Dense)             (None, 600)               360600    \n",
            "                                                                 \n",
            " dense_5 (Dense)             (None, 400)               240400    \n",
            "                                                                 \n",
            " dense_6 (Dense)             (None, 10)                4010      \n",
            "                                                                 \n",
            "=================================================================\n",
            "Total params: 2766910 (10.55 MB)\n",
            "Trainable params: 2766910 (10.55 MB)\n",
            "Non-trainable params: 0 (0.00 Byte)\n",
            "_________________________________________________________________\n"
          ]
        }
      ]
    },
    {
      "cell_type": "code",
      "source": [
        "model.compile(loss = \"sparse_categorical_crossentropy\",\n",
        "              optimizer = \"sgd\",\n",
        "              metrics = \"accuracy\")"
      ],
      "metadata": {
        "id": "94Y-bZn1QsSU"
      },
      "id": "94Y-bZn1QsSU",
      "execution_count": 10,
      "outputs": []
    },
    {
      "cell_type": "code",
      "source": [
        "log_dir = \"logs/fit/\" + datetime.datetime.now().strftime(\"%Y%m%d-%H%M%S\")\n",
        "tensorboard_callback = tf.keras.callbacks.TensorBoard(log_dir=log_dir, histogram_freq=1)\n",
        "checkpoints = tf.keras.callbacks.ModelCheckpoint('./checkpoint.model.keras')\n",
        "history = model.fit(X_train, y_train, epochs = 30, validation_data = (X_valid, y_valid), callbacks=[tensorboard_callback, checkpoints])"
      ],
      "metadata": {
        "colab": {
          "base_uri": "https://localhost:8080/"
        },
        "id": "vgLgmw-pRaPl",
        "outputId": "b101f4ed-be31-436e-d34b-09b0e2a7794a"
      },
      "id": "vgLgmw-pRaPl",
      "execution_count": 11,
      "outputs": [
        {
          "output_type": "stream",
          "name": "stdout",
          "text": [
            "Epoch 1/30\n",
            "1250/1250 [==============================] - 22s 14ms/step - loss: nan - accuracy: 0.0997 - val_loss: nan - val_accuracy: 0.1014\n",
            "Epoch 2/30\n",
            "1250/1250 [==============================] - 7s 6ms/step - loss: nan - accuracy: 0.0997 - val_loss: nan - val_accuracy: 0.1014\n",
            "Epoch 3/30\n",
            "1250/1250 [==============================] - 7s 6ms/step - loss: nan - accuracy: 0.0997 - val_loss: nan - val_accuracy: 0.1014\n",
            "Epoch 4/30\n",
            "1250/1250 [==============================] - 7s 6ms/step - loss: nan - accuracy: 0.0997 - val_loss: nan - val_accuracy: 0.1014\n",
            "Epoch 5/30\n",
            "1250/1250 [==============================] - 8s 7ms/step - loss: nan - accuracy: 0.0997 - val_loss: nan - val_accuracy: 0.1014\n",
            "Epoch 6/30\n",
            "1250/1250 [==============================] - 8s 6ms/step - loss: nan - accuracy: 0.0997 - val_loss: nan - val_accuracy: 0.1014\n",
            "Epoch 7/30\n",
            "1250/1250 [==============================] - 7s 6ms/step - loss: nan - accuracy: 0.0997 - val_loss: nan - val_accuracy: 0.1014\n",
            "Epoch 8/30\n",
            "1250/1250 [==============================] - 8s 6ms/step - loss: nan - accuracy: 0.0997 - val_loss: nan - val_accuracy: 0.1014\n",
            "Epoch 9/30\n",
            "1250/1250 [==============================] - 6s 5ms/step - loss: nan - accuracy: 0.0997 - val_loss: nan - val_accuracy: 0.1014\n",
            "Epoch 10/30\n",
            "1250/1250 [==============================] - 8s 6ms/step - loss: nan - accuracy: 0.0997 - val_loss: nan - val_accuracy: 0.1014\n",
            "Epoch 11/30\n",
            "1250/1250 [==============================] - 6s 5ms/step - loss: nan - accuracy: 0.0997 - val_loss: nan - val_accuracy: 0.1014\n",
            "Epoch 12/30\n",
            "1250/1250 [==============================] - 7s 6ms/step - loss: nan - accuracy: 0.0997 - val_loss: nan - val_accuracy: 0.1014\n",
            "Epoch 13/30\n",
            "1250/1250 [==============================] - 8s 7ms/step - loss: nan - accuracy: 0.0997 - val_loss: nan - val_accuracy: 0.1014\n",
            "Epoch 14/30\n",
            "1250/1250 [==============================] - 8s 6ms/step - loss: nan - accuracy: 0.0997 - val_loss: nan - val_accuracy: 0.1014\n",
            "Epoch 15/30\n",
            "1250/1250 [==============================] - 7s 6ms/step - loss: nan - accuracy: 0.0997 - val_loss: nan - val_accuracy: 0.1014\n",
            "Epoch 16/30\n",
            "1250/1250 [==============================] - 7s 5ms/step - loss: nan - accuracy: 0.0997 - val_loss: nan - val_accuracy: 0.1014\n",
            "Epoch 17/30\n",
            "1250/1250 [==============================] - 7s 6ms/step - loss: nan - accuracy: 0.0997 - val_loss: nan - val_accuracy: 0.1014\n",
            "Epoch 18/30\n",
            "1250/1250 [==============================] - 6s 5ms/step - loss: nan - accuracy: 0.0997 - val_loss: nan - val_accuracy: 0.1014\n",
            "Epoch 19/30\n",
            "1250/1250 [==============================] - 8s 6ms/step - loss: nan - accuracy: 0.0997 - val_loss: nan - val_accuracy: 0.1014\n",
            "Epoch 20/30\n",
            "1250/1250 [==============================] - 7s 6ms/step - loss: nan - accuracy: 0.0997 - val_loss: nan - val_accuracy: 0.1014\n",
            "Epoch 21/30\n",
            "1250/1250 [==============================] - 7s 6ms/step - loss: nan - accuracy: 0.0997 - val_loss: nan - val_accuracy: 0.1014\n",
            "Epoch 22/30\n",
            "1250/1250 [==============================] - 7s 6ms/step - loss: nan - accuracy: 0.0997 - val_loss: nan - val_accuracy: 0.1014\n",
            "Epoch 23/30\n",
            "1250/1250 [==============================] - 7s 6ms/step - loss: nan - accuracy: 0.0997 - val_loss: nan - val_accuracy: 0.1014\n",
            "Epoch 24/30\n",
            "1250/1250 [==============================] - 7s 5ms/step - loss: nan - accuracy: 0.0997 - val_loss: nan - val_accuracy: 0.1014\n",
            "Epoch 25/30\n",
            "1250/1250 [==============================] - 8s 6ms/step - loss: nan - accuracy: 0.0997 - val_loss: nan - val_accuracy: 0.1014\n",
            "Epoch 26/30\n",
            "1250/1250 [==============================] - 7s 6ms/step - loss: nan - accuracy: 0.0997 - val_loss: nan - val_accuracy: 0.1014\n",
            "Epoch 27/30\n",
            "1250/1250 [==============================] - 6s 5ms/step - loss: nan - accuracy: 0.0997 - val_loss: nan - val_accuracy: 0.1014\n",
            "Epoch 28/30\n",
            "1250/1250 [==============================] - 7s 6ms/step - loss: nan - accuracy: 0.0997 - val_loss: nan - val_accuracy: 0.1014\n",
            "Epoch 29/30\n",
            "1250/1250 [==============================] - 6s 5ms/step - loss: nan - accuracy: 0.0997 - val_loss: nan - val_accuracy: 0.1014\n",
            "Epoch 30/30\n",
            "1250/1250 [==============================] - 7s 6ms/step - loss: nan - accuracy: 0.0997 - val_loss: nan - val_accuracy: 0.1014\n"
          ]
        }
      ]
    },
    {
      "cell_type": "code",
      "source": [
        "weights = model.get_layer(\"dense_1\").get_weights()"
      ],
      "metadata": {
        "id": "r6vmjLI_SQdF"
      },
      "id": "r6vmjLI_SQdF",
      "execution_count": 12,
      "outputs": []
    },
    {
      "cell_type": "code",
      "source": [
        "weights[1].shape"
      ],
      "metadata": {
        "id": "nvP46BvXs2oo",
        "outputId": "eee37777-7526-41d0-c9d2-10102f6196fe",
        "colab": {
          "base_uri": "https://localhost:8080/"
        }
      },
      "id": "nvP46BvXs2oo",
      "execution_count": 13,
      "outputs": [
        {
          "output_type": "execute_result",
          "data": {
            "text/plain": [
              "(700,)"
            ]
          },
          "metadata": {},
          "execution_count": 13
        }
      ]
    },
    {
      "cell_type": "code",
      "source": [
        "# Load the TensorBoard notebook extension\n"
      ],
      "metadata": {
        "id": "iPQQ8w6-3qnK"
      },
      "id": "iPQQ8w6-3qnK",
      "execution_count": 14,
      "outputs": []
    },
    {
      "cell_type": "code",
      "source": [
        "def build_model(hp):\n",
        "  n_hidden = hp.Int(\"n_hidden\", min_value = 0, max_value = 10, default = 2)\n",
        "  n_neurons = hp.Int(\"n_neurons\", min_value = 10, max_value = 500, default = 3)\n",
        "  learning_rate = hp.Float(\"learning_rate\", min_value = 1e-4, max_value = 1e-2, sampling = \"log\")\n",
        "  optimizer = hp.Choice(\"optimizer\", values = [\"sgd\", \"adam\"])\n",
        "  if optimizer == \"sgd\":\n",
        "    optimizer = tf.keras.optimizers.SGD(learning_rate = learning_rate)\n",
        "  else:\n",
        "    optimizer = tf.keras.optimizers.Adam(learning_rate = learning_rate)\n",
        "  model = tf.keras.Sequential()\n",
        "  model.add(tf.keras.layers.Flatten(input_shape = [32,32,1]))\n",
        "  for i in range(n_hidden):\n",
        "    model.add(tf.keras.layers.Dense(n_neurons, activation = \"relu\"))\n",
        "  model.add(tf.keras.layers.Dense(10, activation = \"softmax\"))\n",
        "  model.compile(loss = \"sparse_categorical_crossentropy\", optimizer = optimizer, metrics = [\"accuracy\"])\n",
        "  return model\n",
        "\n"
      ],
      "metadata": {
        "id": "QLr5Fcqy4tX1"
      },
      "id": "QLr5Fcqy4tX1",
      "execution_count": 15,
      "outputs": []
    },
    {
      "cell_type": "code",
      "source": [
        "random_search_tuner = kt.RandomSearch(build_model,\n",
        "                                  objective = \"accuracy\",\n",
        "                                  max_trials = 100,\n",
        "                                  seed = 42,\n",
        "                                  directory = \"cifarproject\",\n",
        "                                  project_name = \"random_search_runs\")\n",
        "random_search_tuner.search(X_train, y_train, epochs = 5, validation_data = (X_valid, y_valid))"
      ],
      "metadata": {
        "id": "hHVXI4rX40eE",
        "colab": {
          "base_uri": "https://localhost:8080/"
        },
        "outputId": "978089cb-0cbb-42e0-d0ad-b32a9b084358"
      },
      "id": "hHVXI4rX40eE",
      "execution_count": 16,
      "outputs": [
        {
          "output_type": "stream",
          "name": "stdout",
          "text": [
            "Trial 100 Complete [00h 00m 42s]\n",
            "accuracy: 0.2178249955177307\n",
            "\n",
            "Best accuracy So Far: 0.3695499897003174\n",
            "Total elapsed time: 01h 00m 58s\n"
          ]
        }
      ]
    },
    {
      "cell_type": "code",
      "source": [
        "!rm -rf cifarproject/"
      ],
      "metadata": {
        "id": "RctLIaj2BwYR"
      },
      "id": "RctLIaj2BwYR",
      "execution_count": null,
      "outputs": []
    },
    {
      "cell_type": "code",
      "source": [
        "top5_trials = random_search_tuner.oracle.get_best_trials(num_trials = 5)\n",
        "for _ in top5_trials:\n",
        "  print(_.summary())"
      ],
      "metadata": {
        "id": "cjMrZObDipzu",
        "outputId": "693f9241-9e3e-4561-95a4-f07f503100cd",
        "colab": {
          "base_uri": "https://localhost:8080/"
        }
      },
      "id": "cjMrZObDipzu",
      "execution_count": 20,
      "outputs": [
        {
          "output_type": "stream",
          "name": "stdout",
          "text": [
            "Trial 019 summary\n",
            "Hyperparameters:\n",
            "n_hidden: 7\n",
            "n_neurons: 464\n",
            "learning_rate: 0.0010712131812413617\n",
            "optimizer: sgd\n",
            "Score: 0.3695499897003174\n",
            "None\n",
            "Trial 017 summary\n",
            "Hyperparameters:\n",
            "n_hidden: 10\n",
            "n_neurons: 416\n",
            "learning_rate: 0.0009172617171127613\n",
            "optimizer: sgd\n",
            "Score: 0.3644999861717224\n",
            "None\n",
            "Trial 060 summary\n",
            "Hyperparameters:\n",
            "n_hidden: 7\n",
            "n_neurons: 365\n",
            "learning_rate: 0.00011631756169915276\n",
            "optimizer: adam\n",
            "Score: 0.35534998774528503\n",
            "None\n",
            "Trial 034 summary\n",
            "Hyperparameters:\n",
            "n_hidden: 10\n",
            "n_neurons: 452\n",
            "learning_rate: 0.00019430304760198347\n",
            "optimizer: adam\n",
            "Score: 0.3549000024795532\n",
            "None\n",
            "Trial 032 summary\n",
            "Hyperparameters:\n",
            "n_hidden: 8\n",
            "n_neurons: 393\n",
            "learning_rate: 0.0005070370705614628\n",
            "optimizer: sgd\n",
            "Score: 0.35397499799728394\n",
            "None\n"
          ]
        }
      ]
    },
    {
      "cell_type": "code",
      "source": [
        "best_trial = tf.keras.Sequential()\n",
        "best_trial.add(tf.keras.layers.Flatten(input_shape = [32,32,1]))\n",
        "for _ in range(7):\n",
        "  best_trial.add(tf.keras.layers.Dense(464, activation = \"relu\"))\n",
        "best_trial.add(tf.keras.layers.Dense(10, activation = \"softmax\"))\n",
        "\n",
        "best_trial.summary()"
      ],
      "metadata": {
        "id": "9jT3TwJQg8CC",
        "outputId": "dba39393-189b-4102-cf60-222f5bf445ff",
        "colab": {
          "base_uri": "https://localhost:8080/"
        }
      },
      "id": "9jT3TwJQg8CC",
      "execution_count": 29,
      "outputs": [
        {
          "output_type": "stream",
          "name": "stdout",
          "text": [
            "Model: \"sequential_3\"\n",
            "_________________________________________________________________\n",
            " Layer (type)                Output Shape              Param #   \n",
            "=================================================================\n",
            " flatten_2 (Flatten)         (None, 1024)              0         \n",
            "                                                                 \n",
            " dense_11 (Dense)            (None, 464)               475600    \n",
            "                                                                 \n",
            " dense_12 (Dense)            (None, 464)               215760    \n",
            "                                                                 \n",
            " dense_13 (Dense)            (None, 464)               215760    \n",
            "                                                                 \n",
            " dense_14 (Dense)            (None, 464)               215760    \n",
            "                                                                 \n",
            " dense_15 (Dense)            (None, 464)               215760    \n",
            "                                                                 \n",
            " dense_16 (Dense)            (None, 464)               215760    \n",
            "                                                                 \n",
            " dense_17 (Dense)            (None, 464)               215760    \n",
            "                                                                 \n",
            " dense_18 (Dense)            (None, 10)                4650      \n",
            "                                                                 \n",
            "=================================================================\n",
            "Total params: 1774810 (6.77 MB)\n",
            "Trainable params: 1774810 (6.77 MB)\n",
            "Non-trainable params: 0 (0.00 Byte)\n",
            "_________________________________________________________________\n"
          ]
        }
      ]
    },
    {
      "cell_type": "code",
      "source": [
        "optimizer = tf.keras.optimizers.SGD(learning_rate = 0.0010712131812413617)\n",
        "best_trial.compile(loss = \"sparse_categorical_crossentropy\", optimizer = optimizer, metrics = [\"accuracy\"])"
      ],
      "metadata": {
        "id": "xyyMBa7BtAdY"
      },
      "id": "xyyMBa7BtAdY",
      "execution_count": 30,
      "outputs": []
    },
    {
      "cell_type": "code",
      "source": [
        "early_stopping_cb = tf.keras.callbacks.EarlyStopping(patience = 10,\n",
        "                                                     restore_best_weights = True)\n",
        "checkpoints_b = tf.keras.callbacks.ModelCheckpoint('./checkpoint_b.model.keras')\n",
        "history_b = best_trial.fit(X_train, y_train, epochs = 40, validation_data = (X_valid, y_valid), callbacks=[early_stopping_cb, checkpoints])"
      ],
      "metadata": {
        "id": "hcvzK-SmwsvO",
        "outputId": "a1d1f0a9-6444-4c5e-f7af-9d80a9ef97d6",
        "colab": {
          "base_uri": "https://localhost:8080/"
        }
      },
      "id": "hcvzK-SmwsvO",
      "execution_count": 31,
      "outputs": [
        {
          "output_type": "stream",
          "name": "stdout",
          "text": [
            "Epoch 1/40\n",
            "1250/1250 [==============================] - 8s 6ms/step - loss: 2.2840 - accuracy: 0.2416 - val_loss: 1.9890 - val_accuracy: 0.2827\n",
            "Epoch 2/40\n",
            "1250/1250 [==============================] - 6s 5ms/step - loss: 1.9406 - accuracy: 0.3044 - val_loss: 1.9404 - val_accuracy: 0.2994\n",
            "Epoch 3/40\n",
            "1250/1250 [==============================] - 7s 6ms/step - loss: 1.8696 - accuracy: 0.3329 - val_loss: 1.8945 - val_accuracy: 0.3223\n",
            "Epoch 4/40\n",
            "1250/1250 [==============================] - 6s 5ms/step - loss: 1.8153 - accuracy: 0.3533 - val_loss: 1.8621 - val_accuracy: 0.3415\n",
            "Epoch 5/40\n",
            "1250/1250 [==============================] - 7s 5ms/step - loss: 1.7731 - accuracy: 0.3678 - val_loss: 1.8373 - val_accuracy: 0.3430\n",
            "Epoch 6/40\n",
            "1250/1250 [==============================] - 6s 5ms/step - loss: 1.7354 - accuracy: 0.3807 - val_loss: 1.8400 - val_accuracy: 0.3406\n",
            "Epoch 7/40\n",
            "1250/1250 [==============================] - 6s 5ms/step - loss: 1.7019 - accuracy: 0.3938 - val_loss: 1.8041 - val_accuracy: 0.3557\n",
            "Epoch 8/40\n",
            "1250/1250 [==============================] - 6s 5ms/step - loss: 1.6698 - accuracy: 0.4063 - val_loss: 1.7988 - val_accuracy: 0.3555\n",
            "Epoch 9/40\n",
            "1250/1250 [==============================] - 7s 5ms/step - loss: 1.6357 - accuracy: 0.4191 - val_loss: 1.8214 - val_accuracy: 0.3571\n",
            "Epoch 10/40\n",
            "1250/1250 [==============================] - 6s 5ms/step - loss: 1.6035 - accuracy: 0.4322 - val_loss: 1.7795 - val_accuracy: 0.3727\n",
            "Epoch 11/40\n",
            "1250/1250 [==============================] - 6s 5ms/step - loss: 1.5736 - accuracy: 0.4424 - val_loss: 1.8070 - val_accuracy: 0.3655\n",
            "Epoch 12/40\n",
            "1250/1250 [==============================] - 7s 6ms/step - loss: 1.5452 - accuracy: 0.4527 - val_loss: 1.7941 - val_accuracy: 0.3683\n",
            "Epoch 13/40\n",
            "1250/1250 [==============================] - 7s 5ms/step - loss: 1.5143 - accuracy: 0.4656 - val_loss: 1.7889 - val_accuracy: 0.3752\n",
            "Epoch 14/40\n",
            "1250/1250 [==============================] - 6s 5ms/step - loss: 1.4837 - accuracy: 0.4773 - val_loss: 1.7696 - val_accuracy: 0.3795\n",
            "Epoch 15/40\n",
            "1250/1250 [==============================] - 6s 5ms/step - loss: 1.4558 - accuracy: 0.4884 - val_loss: 1.7929 - val_accuracy: 0.3832\n",
            "Epoch 16/40\n",
            "1250/1250 [==============================] - 6s 5ms/step - loss: 1.4243 - accuracy: 0.4989 - val_loss: 1.7886 - val_accuracy: 0.3811\n",
            "Epoch 17/40\n",
            "1250/1250 [==============================] - 6s 5ms/step - loss: 1.3963 - accuracy: 0.5070 - val_loss: 1.8224 - val_accuracy: 0.3726\n",
            "Epoch 18/40\n",
            "1250/1250 [==============================] - 7s 6ms/step - loss: 1.3661 - accuracy: 0.5184 - val_loss: 1.8652 - val_accuracy: 0.3746\n",
            "Epoch 19/40\n",
            "1250/1250 [==============================] - 7s 5ms/step - loss: 1.3348 - accuracy: 0.5324 - val_loss: 1.7999 - val_accuracy: 0.3890\n",
            "Epoch 20/40\n",
            "1250/1250 [==============================] - 7s 6ms/step - loss: 1.3058 - accuracy: 0.5415 - val_loss: 1.8342 - val_accuracy: 0.3769\n",
            "Epoch 21/40\n",
            "1250/1250 [==============================] - 6s 5ms/step - loss: 1.2746 - accuracy: 0.5538 - val_loss: 1.8343 - val_accuracy: 0.3779\n",
            "Epoch 22/40\n",
            "1250/1250 [==============================] - 7s 5ms/step - loss: 1.2440 - accuracy: 0.5658 - val_loss: 1.8719 - val_accuracy: 0.3827\n",
            "Epoch 23/40\n",
            "1250/1250 [==============================] - 6s 5ms/step - loss: 1.2179 - accuracy: 0.5734 - val_loss: 1.8818 - val_accuracy: 0.3848\n",
            "Epoch 24/40\n",
            "1250/1250 [==============================] - 7s 5ms/step - loss: 1.1819 - accuracy: 0.5872 - val_loss: 1.8908 - val_accuracy: 0.3804\n"
          ]
        }
      ]
    },
    {
      "cell_type": "code",
      "source": [
        "best_trial.evaluate(X_test, y_test)"
      ],
      "metadata": {
        "id": "5ha-fahgxUlX",
        "outputId": "532513b4-cef4-4a49-d7e2-15c49550ea15",
        "colab": {
          "base_uri": "https://localhost:8080/"
        }
      },
      "id": "5ha-fahgxUlX",
      "execution_count": 32,
      "outputs": [
        {
          "output_type": "stream",
          "name": "stdout",
          "text": [
            "313/313 [==============================] - 1s 4ms/step - loss: 1.7676 - accuracy: 0.3786\n"
          ]
        },
        {
          "output_type": "execute_result",
          "data": {
            "text/plain": [
              "[1.7676118612289429, 0.37860000133514404]"
            ]
          },
          "metadata": {},
          "execution_count": 32
        }
      ]
    },
    {
      "cell_type": "code",
      "source": [],
      "metadata": {
        "id": "0pXWYWiOz0qH"
      },
      "id": "0pXWYWiOz0qH",
      "execution_count": null,
      "outputs": []
    }
  ],
  "metadata": {
    "kernelspec": {
      "display_name": "Python 3.10 (tensorflow)",
      "language": "python",
      "name": "tensorflow"
    },
    "language_info": {
      "codemirror_mode": {
        "name": "ipython",
        "version": 3
      },
      "file_extension": ".py",
      "mimetype": "text/x-python",
      "name": "python",
      "nbconvert_exporter": "python",
      "pygments_lexer": "ipython3",
      "version": "3.10.10"
    },
    "colab": {
      "provenance": [],
      "gpuType": "T4"
    },
    "accelerator": "GPU"
  },
  "nbformat": 4,
  "nbformat_minor": 5
}