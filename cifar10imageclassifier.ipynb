{
  "cells": [
    {
      "cell_type": "code",
      "execution_count": 1,
      "id": "0088e301-b45b-4cff-bcb9-9552e3b8fe30",
      "metadata": {
        "id": "0088e301-b45b-4cff-bcb9-9552e3b8fe30"
      },
      "outputs": [],
      "source": [
        "#!pip install --upgrade keras-cv tensorflow\n",
        "#!pip install --upgrade keras\n",
        "import tensorflow as tf\n",
        "from matplotlib import pyplot as plt\n",
        "%matplotlib inline\n",
        "import numpy as np\n",
        "import keras\n",
        "import datetime\n",
        "%load_ext tensorboard\n"
      ]
    },
    {
      "cell_type": "code",
      "source": [
        "from google.colab import drive\n",
        "drive.mount('/content/gdrive')"
      ],
      "metadata": {
        "colab": {
          "base_uri": "https://localhost:8080/"
        },
        "id": "XDl_ADMZ2epx",
        "outputId": "0d19f454-05c8-4cec-d831-bb1b5f579fc7"
      },
      "id": "XDl_ADMZ2epx",
      "execution_count": 13,
      "outputs": [
        {
          "output_type": "stream",
          "name": "stdout",
          "text": [
            "Mounted at /content/gdrive\n"
          ]
        }
      ]
    },
    {
      "cell_type": "code",
      "source": [
        "cifar10 = tf.keras.datasets.cifar10.load_data()\n",
        "(X_train_full, y_train_full), (X_test, y_test) = cifar10\n"
      ],
      "metadata": {
        "id": "9f97cZgJOE1l",
        "colab": {
          "base_uri": "https://localhost:8080/"
        },
        "outputId": "4ab0730b-7753-4c76-fc2a-6eecba392b40"
      },
      "id": "9f97cZgJOE1l",
      "execution_count": 3,
      "outputs": [
        {
          "output_type": "stream",
          "name": "stdout",
          "text": [
            "Downloading data from https://www.cs.toronto.edu/~kriz/cifar-10-python.tar.gz\n",
            "170498071/170498071 [==============================] - 3s 0us/step\n"
          ]
        }
      ]
    },
    {
      "cell_type": "code",
      "source": [
        "X_train_full = tf.image.rgb_to_grayscale(X_train_full)\n",
        "X_test = tf.image.rgb_to_grayscale(X_test)"
      ],
      "metadata": {
        "id": "8dfrk5wn7nui"
      },
      "id": "8dfrk5wn7nui",
      "execution_count": 4,
      "outputs": []
    },
    {
      "cell_type": "code",
      "source": [
        "X_train_full.shape"
      ],
      "metadata": {
        "id": "LXGo0Eu2uI1Q",
        "outputId": "9b1523cf-fd78-429f-aa3c-d55978b12b0f",
        "colab": {
          "base_uri": "https://localhost:8080/"
        }
      },
      "id": "LXGo0Eu2uI1Q",
      "execution_count": 5,
      "outputs": [
        {
          "output_type": "execute_result",
          "data": {
            "text/plain": [
              "TensorShape([50000, 32, 32, 1])"
            ]
          },
          "metadata": {},
          "execution_count": 5
        }
      ]
    },
    {
      "cell_type": "code",
      "source": [
        "\"\"\"to_grayscale = keras.layers.preprocessing.Grayscale()\n",
        "X_train_full = to_grayscale(X_train_full)\n",
        "X_test = to_grayscale(X_test)\"\"\""
      ],
      "metadata": {
        "id": "KCil1i1XlVPo",
        "outputId": "e9e0b232-6dda-47f6-ef3c-f9d0519bc338",
        "colab": {
          "base_uri": "https://localhost:8080/",
          "height": 52
        }
      },
      "id": "KCil1i1XlVPo",
      "execution_count": null,
      "outputs": [
        {
          "output_type": "execute_result",
          "data": {
            "text/plain": [
              "'to_grayscale = keras.layers.preprocessing.Grayscale()\\nX_train_full = to_grayscale(X_train_full)\\nX_test = to_grayscale(X_test)'"
            ],
            "application/vnd.google.colaboratory.intrinsic+json": {
              "type": "string"
            }
          },
          "metadata": {},
          "execution_count": 36
        }
      ]
    },
    {
      "cell_type": "code",
      "source": [
        "X_train, y_train = X_train_full[:-10000], y_train_full[:-10000]\n",
        "X_valid, y_valid = X_train_full[-10000:], y_train_full[-10000:]"
      ],
      "metadata": {
        "id": "3UObF7b7nm-e"
      },
      "id": "3UObF7b7nm-e",
      "execution_count": 6,
      "outputs": []
    },
    {
      "cell_type": "code",
      "source": [
        "print(X_train[1][0][1])"
      ],
      "metadata": {
        "id": "RGxsiGCcpZa2",
        "outputId": "aa66349c-41cd-4301-9644-b8b9d1a475cd",
        "colab": {
          "base_uri": "https://localhost:8080/"
        }
      },
      "id": "RGxsiGCcpZa2",
      "execution_count": 7,
      "outputs": [
        {
          "output_type": "stream",
          "name": "stdout",
          "text": [
            "tf.Tensor([133], shape=(1,), dtype=uint8)\n"
          ]
        }
      ]
    },
    {
      "cell_type": "code",
      "source": [
        "class_names = [\"airplane\", \"automobile\", \"bird\", \"cat\", \"deer\", \"dog\", \"frog\", \"horse\", \"ship\", \"truck\"]\n",
        "class_names[int(y_train[5])]\n"
      ],
      "metadata": {
        "colab": {
          "base_uri": "https://localhost:8080/",
          "height": 89
        },
        "id": "GhPGKeDgPAsL",
        "outputId": "c68debe5-de58-4ea9-ffa1-a1238f6d25f0"
      },
      "id": "GhPGKeDgPAsL",
      "execution_count": 8,
      "outputs": [
        {
          "output_type": "stream",
          "name": "stderr",
          "text": [
            "<ipython-input-8-f94cb98b12e9>:2: DeprecationWarning: Conversion of an array with ndim > 0 to a scalar is deprecated, and will error in future. Ensure you extract a single element from your array before performing this operation. (Deprecated NumPy 1.25.)\n",
            "  class_names[int(y_train[5])]\n"
          ]
        },
        {
          "output_type": "execute_result",
          "data": {
            "text/plain": [
              "'automobile'"
            ],
            "application/vnd.google.colaboratory.intrinsic+json": {
              "type": "string"
            }
          },
          "metadata": {},
          "execution_count": 8
        }
      ]
    },
    {
      "cell_type": "code",
      "source": [
        "\n",
        "\n",
        "\n",
        "model = tf.keras.Sequential([\n",
        "    tf.keras.layers.Flatten(input_shape = [32, 32, 1]),\n",
        "    tf.keras.layers.Dense(600, kernel_initializer = 'random_normal',bias_initializer = 'zeros' ,activation = \"relu\"),\n",
        "    tf.keras.layers.Dense(400, kernel_initializer = 'random_normal',bias_initializer = 'zeros', activation = \"relu\"),\n",
        "    tf.keras.layers.Dense(400, kernel_initializer = 'random_normal',bias_initializer = 'zeros', activation = \"relu\"),\n",
        "    tf.keras.layers.Dense(400, kernel_initializer = 'random_normal',bias_initializer = 'zeros', activation = \"relu\"),\n",
        "    tf.keras.layers.Dense(400, kernel_initializer = 'random_normal',bias_initializer = 'zeros', activation = \"relu\"),\n",
        "    tf.keras.layers.Dense(400, kernel_initializer = 'random_normal',bias_initializer = 'zeros', activation = \"relu\"),\n",
        "    tf.keras.layers.Dense(10, activation = \"softmax\")\n",
        "])\n",
        "model.summary()"
      ],
      "metadata": {
        "colab": {
          "base_uri": "https://localhost:8080/"
        },
        "id": "R_rQwpRPPzS-",
        "outputId": "0bf571f8-b4bd-4acd-feda-2a2d1b325e9d"
      },
      "id": "R_rQwpRPPzS-",
      "execution_count": 46,
      "outputs": [
        {
          "output_type": "stream",
          "name": "stdout",
          "text": [
            "Model: \"sequential_5\"\n",
            "_________________________________________________________________\n",
            " Layer (type)                Output Shape              Param #   \n",
            "=================================================================\n",
            " flatten_5 (Flatten)         (None, 1024)              0         \n",
            "                                                                 \n",
            " dense_23 (Dense)            (None, 600)               615000    \n",
            "                                                                 \n",
            " dense_24 (Dense)            (None, 400)               240400    \n",
            "                                                                 \n",
            " dense_25 (Dense)            (None, 400)               160400    \n",
            "                                                                 \n",
            " dense_26 (Dense)            (None, 400)               160400    \n",
            "                                                                 \n",
            " dense_27 (Dense)            (None, 400)               160400    \n",
            "                                                                 \n",
            " dense_28 (Dense)            (None, 400)               160400    \n",
            "                                                                 \n",
            " dense_29 (Dense)            (None, 10)                4010      \n",
            "                                                                 \n",
            "=================================================================\n",
            "Total params: 1501010 (5.73 MB)\n",
            "Trainable params: 1501010 (5.73 MB)\n",
            "Non-trainable params: 0 (0.00 Byte)\n",
            "_________________________________________________________________\n"
          ]
        }
      ]
    },
    {
      "cell_type": "code",
      "source": [
        "model.compile(loss = \"sparse_categorical_crossentropy\",\n",
        "              optimizer = \"adam\",\n",
        "              metrics = \"accuracy\")"
      ],
      "metadata": {
        "id": "94Y-bZn1QsSU"
      },
      "id": "94Y-bZn1QsSU",
      "execution_count": 47,
      "outputs": []
    },
    {
      "cell_type": "code",
      "source": [
        "log_dir = \"logs/fit/\" + datetime.datetime.now().strftime(\"%Y%m%d-%H%M%S\")\n",
        "tensorboard_callback = tf.keras.callbacks.TensorBoard(log_dir=log_dir, histogram_freq=1)\n",
        "checkpoints = tf.keras.callbacks.ModelCheckpoint('./checkpoint.model.keras')\n",
        "history = model.fit(X_train, y_train, epochs = 30, validation_data = (X_valid, y_valid), callbacks=[tensorboard_callback, checkpoints])"
      ],
      "metadata": {
        "colab": {
          "base_uri": "https://localhost:8080/"
        },
        "id": "vgLgmw-pRaPl",
        "outputId": "09bb1f7c-5c89-406c-8c81-7abe55b4c122"
      },
      "id": "vgLgmw-pRaPl",
      "execution_count": 48,
      "outputs": [
        {
          "output_type": "stream",
          "name": "stdout",
          "text": [
            "Epoch 1/30\n",
            "1250/1250 [==============================] - 8s 5ms/step - loss: 3.3659 - accuracy: 0.2247 - val_loss: 2.0876 - val_accuracy: 0.2399\n",
            "Epoch 2/30\n",
            "1250/1250 [==============================] - 7s 6ms/step - loss: 2.0065 - accuracy: 0.2747 - val_loss: 1.9604 - val_accuracy: 0.2986\n",
            "Epoch 3/30\n",
            "1250/1250 [==============================] - 7s 6ms/step - loss: 1.9719 - accuracy: 0.2878 - val_loss: 1.9584 - val_accuracy: 0.2992\n",
            "Epoch 4/30\n",
            "1250/1250 [==============================] - 7s 6ms/step - loss: 1.9449 - accuracy: 0.2965 - val_loss: 1.9606 - val_accuracy: 0.2893\n",
            "Epoch 5/30\n",
            "1250/1250 [==============================] - 6s 5ms/step - loss: 1.9221 - accuracy: 0.3104 - val_loss: 1.8820 - val_accuracy: 0.3159\n",
            "Epoch 6/30\n",
            "1250/1250 [==============================] - 7s 6ms/step - loss: 1.8965 - accuracy: 0.3234 - val_loss: 1.9146 - val_accuracy: 0.3089\n",
            "Epoch 7/30\n",
            "1250/1250 [==============================] - 6s 5ms/step - loss: 1.8731 - accuracy: 0.3317 - val_loss: 1.8593 - val_accuracy: 0.3378\n",
            "Epoch 8/30\n",
            "1250/1250 [==============================] - 7s 6ms/step - loss: 1.8568 - accuracy: 0.3361 - val_loss: 1.8334 - val_accuracy: 0.3398\n",
            "Epoch 9/30\n",
            "1250/1250 [==============================] - 6s 5ms/step - loss: 1.8291 - accuracy: 0.3453 - val_loss: 1.8717 - val_accuracy: 0.3252\n",
            "Epoch 10/30\n",
            "1250/1250 [==============================] - 7s 6ms/step - loss: 1.8133 - accuracy: 0.3512 - val_loss: 1.8311 - val_accuracy: 0.3476\n",
            "Epoch 11/30\n",
            "1250/1250 [==============================] - 6s 5ms/step - loss: 1.7982 - accuracy: 0.3570 - val_loss: 1.8139 - val_accuracy: 0.3439\n",
            "Epoch 12/30\n",
            "1250/1250 [==============================] - 7s 6ms/step - loss: 1.7832 - accuracy: 0.3622 - val_loss: 1.8187 - val_accuracy: 0.3586\n",
            "Epoch 13/30\n",
            "1250/1250 [==============================] - 6s 5ms/step - loss: 1.7692 - accuracy: 0.3694 - val_loss: 1.8528 - val_accuracy: 0.3324\n",
            "Epoch 14/30\n",
            "1250/1250 [==============================] - 7s 6ms/step - loss: 1.7491 - accuracy: 0.3720 - val_loss: 1.8175 - val_accuracy: 0.3571\n",
            "Epoch 15/30\n",
            "1250/1250 [==============================] - 6s 5ms/step - loss: 1.7405 - accuracy: 0.3781 - val_loss: 1.7961 - val_accuracy: 0.3580\n",
            "Epoch 16/30\n",
            "1250/1250 [==============================] - 7s 5ms/step - loss: 1.7279 - accuracy: 0.3846 - val_loss: 1.8541 - val_accuracy: 0.3417\n",
            "Epoch 17/30\n",
            "1250/1250 [==============================] - 6s 5ms/step - loss: 1.7160 - accuracy: 0.3918 - val_loss: 1.7860 - val_accuracy: 0.3686\n",
            "Epoch 18/30\n",
            "1250/1250 [==============================] - 7s 6ms/step - loss: 1.7039 - accuracy: 0.3912 - val_loss: 1.7725 - val_accuracy: 0.3651\n",
            "Epoch 19/30\n",
            "1250/1250 [==============================] - 7s 6ms/step - loss: 1.6975 - accuracy: 0.3959 - val_loss: 1.7790 - val_accuracy: 0.3800\n",
            "Epoch 20/30\n",
            "1250/1250 [==============================] - 7s 6ms/step - loss: 1.6826 - accuracy: 0.4006 - val_loss: 1.7511 - val_accuracy: 0.3764\n",
            "Epoch 21/30\n",
            "1250/1250 [==============================] - 6s 5ms/step - loss: 1.6726 - accuracy: 0.4009 - val_loss: 1.8345 - val_accuracy: 0.3535\n",
            "Epoch 22/30\n",
            "1250/1250 [==============================] - 7s 6ms/step - loss: 1.6611 - accuracy: 0.4085 - val_loss: 1.7625 - val_accuracy: 0.3797\n",
            "Epoch 23/30\n",
            "1250/1250 [==============================] - 6s 5ms/step - loss: 1.6531 - accuracy: 0.4135 - val_loss: 1.7598 - val_accuracy: 0.3739\n",
            "Epoch 24/30\n",
            "1250/1250 [==============================] - 7s 6ms/step - loss: 1.6475 - accuracy: 0.4136 - val_loss: 1.7731 - val_accuracy: 0.3737\n",
            "Epoch 25/30\n",
            "1250/1250 [==============================] - 6s 5ms/step - loss: 1.6287 - accuracy: 0.4183 - val_loss: 1.7694 - val_accuracy: 0.3745\n",
            "Epoch 26/30\n",
            "1250/1250 [==============================] - 7s 6ms/step - loss: 1.6270 - accuracy: 0.4221 - val_loss: 1.7666 - val_accuracy: 0.3759\n",
            "Epoch 27/30\n",
            "1250/1250 [==============================] - 6s 5ms/step - loss: 1.6158 - accuracy: 0.4270 - val_loss: 1.7863 - val_accuracy: 0.3760\n",
            "Epoch 28/30\n",
            "1250/1250 [==============================] - 7s 6ms/step - loss: 1.6170 - accuracy: 0.4254 - val_loss: 1.8013 - val_accuracy: 0.3688\n",
            "Epoch 29/30\n",
            "1250/1250 [==============================] - 6s 5ms/step - loss: 1.6004 - accuracy: 0.4302 - val_loss: 1.8006 - val_accuracy: 0.3692\n",
            "Epoch 30/30\n",
            "1250/1250 [==============================] - 7s 5ms/step - loss: 1.5946 - accuracy: 0.4338 - val_loss: 1.7621 - val_accuracy: 0.3819\n"
          ]
        }
      ]
    },
    {
      "cell_type": "code",
      "source": [
        "weights = model.get_layer(\"dense_1\").get_weights()"
      ],
      "metadata": {
        "id": "r6vmjLI_SQdF"
      },
      "id": "r6vmjLI_SQdF",
      "execution_count": 25,
      "outputs": []
    },
    {
      "cell_type": "code",
      "source": [
        "weights[1].shape"
      ],
      "metadata": {
        "id": "nvP46BvXs2oo",
        "outputId": "7b7fef0f-17ae-4bc7-d805-83caaf155be2",
        "colab": {
          "base_uri": "https://localhost:8080/"
        }
      },
      "id": "nvP46BvXs2oo",
      "execution_count": 26,
      "outputs": [
        {
          "output_type": "execute_result",
          "data": {
            "text/plain": [
              "(100,)"
            ]
          },
          "metadata": {},
          "execution_count": 26
        }
      ]
    },
    {
      "cell_type": "code",
      "source": [
        "# Load the TensorBoard notebook extension\n"
      ],
      "metadata": {
        "id": "iPQQ8w6-3qnK"
      },
      "id": "iPQQ8w6-3qnK",
      "execution_count": null,
      "outputs": []
    },
    {
      "cell_type": "code",
      "source": [],
      "metadata": {
        "id": "QLr5Fcqy4tX1"
      },
      "id": "QLr5Fcqy4tX1",
      "execution_count": 31,
      "outputs": []
    },
    {
      "cell_type": "code",
      "source": [
        "!rm checkpoint.model.keras"
      ],
      "metadata": {
        "id": "hHVXI4rX40eE"
      },
      "id": "hHVXI4rX40eE",
      "execution_count": 38,
      "outputs": []
    },
    {
      "cell_type": "code",
      "source": [],
      "metadata": {
        "id": "RctLIaj2BwYR"
      },
      "id": "RctLIaj2BwYR",
      "execution_count": null,
      "outputs": []
    }
  ],
  "metadata": {
    "kernelspec": {
      "display_name": "Python 3.10 (tensorflow)",
      "language": "python",
      "name": "tensorflow"
    },
    "language_info": {
      "codemirror_mode": {
        "name": "ipython",
        "version": 3
      },
      "file_extension": ".py",
      "mimetype": "text/x-python",
      "name": "python",
      "nbconvert_exporter": "python",
      "pygments_lexer": "ipython3",
      "version": "3.10.10"
    },
    "colab": {
      "provenance": [],
      "gpuType": "T4"
    },
    "accelerator": "GPU"
  },
  "nbformat": 4,
  "nbformat_minor": 5
}